{
 "cells": [
  {
   "cell_type": "code",
   "execution_count": 67,
   "metadata": {
    "collapsed": true,
    "pycharm": {
     "is_executing": false,
     "name": "#%%\n"
    }
   },
   "outputs": [],
   "source": [
    "import nltk\n",
    "import re\n",
    "from nltk.corpus import stopwords\n",
    "from nltk.stem.snowball import SnowballStemmer\n",
    "from sklearn.feature_extraction.text import TfidfVectorizer\n",
    "import pandas as pd\n",
    "\n",
    "text = \"\"\"\"\n",
    "На встрече присутствовали студенты факультета вычислительной техники и факультета приборостроения, информационных технологий и электроники и солисты хора ветеранов «Легенда».\n",
    "Руководитель клуба Алла Тархова начала встречу с рассказа о роли искусства и, в частности, военной песни в жизни защитников отечества.\n",
    "«Песни военных лет по праву можно назвать музыкальной летописью Великой Отечественной войны. Они звучали буквально с первого и до последнего дня войны. Песни рождались на фронте и в тылу, поднимали бойцов в атаку, согревали сердце на привале, помогали выстоять, выжить и дождаться близких. Их темы черпались из сообщений печати, подсказывались участниками и очевидцами боевых эпизодов», — выделила Алла Тархова.\n",
    "Она предложила посмотреть и послушать историю создания песен «В землянке» и «Синий платочек». Ребята вместе с солистами хора ветеранов «Легенда» дружно и слаженно выпучили и спели легендарные песни «В землянке» и «Синий платочек».\n",
    "«6 мая в ПГУ пройдёт музыкальный флешмоб, посвящённый 75- летию победы Советского народа в ВОВ и мы все вместе будем петь эти легендарные песни, которые поднимали боевой дух нашим славным воинам! Заседание клуба подходит каждую среду в 15.30», — пригласила руководитель клуба.\n",
    "\"\"\"\n",
    "\n",
    "text = re.sub(r'[^\\w\\s]','',text)\n",
    "\n",
    "sentences = nltk.sent_tokenize(text)"
   ]
  },
  {
   "cell_type": "code",
   "execution_count": 68,
   "outputs": [],
   "source": [
    "words = []\n",
    "\n",
    "for sentence in sentences:\n",
    "    words += nltk.word_tokenize(text=sentence)\n"
   ],
   "metadata": {
    "collapsed": false,
    "pycharm": {
     "name": "#%%\n",
     "is_executing": false
    }
   }
  },
  {
   "cell_type": "code",
   "execution_count": 69,
   "outputs": [],
   "source": [
    "\n",
    "steamer = SnowballStemmer(language='russian')\n",
    "\n",
    "for i in range(0, len(words)):\n",
    "    words[i] = steamer.stem(words[i])"
   ],
   "metadata": {
    "collapsed": false,
    "pycharm": {
     "name": "#%%\n",
     "is_executing": false
    }
   }
  },
  {
   "cell_type": "code",
   "execution_count": 70,
   "outputs": [],
   "source": [
    "sw = stopwords.words('russian')\n",
    "without_stop_words = [word for word in words if not word in sw]\n"
   ],
   "metadata": {
    "collapsed": false,
    "pycharm": {
     "name": "#%%\n",
     "is_executing": false
    }
   }
  },
  {
   "cell_type": "code",
   "execution_count": 71,
   "outputs": [
    {
     "data": {
      "text/plain": "     1530   75  алл  атак  близк  боев  бойц  буд  буквальн  велик  ...  \\\n0     0.0  0.0  0.0   0.0    0.0   0.0   0.0  0.0       0.0    0.0  ...   \n1     0.0  0.0  0.0   0.0    0.0   0.0   0.0  0.0       0.0    0.0  ...   \n2     0.0  0.0  0.0   0.0    0.0   0.0   0.0  0.0       0.0    0.0  ...   \n3     0.0  0.0  0.0   0.0    0.0   0.0   0.0  0.0       0.0    0.0  ...   \n4     0.0  0.0  0.0   0.0    0.0   0.0   0.0  0.0       0.0    0.0  ...   \n..    ...  ...  ...   ...    ...   ...   ...  ...       ...    ...  ...   \n127   0.0  0.0  0.0   0.0    0.0   0.0   0.0  0.0       0.0    0.0  ...   \n128   1.0  0.0  0.0   0.0    0.0   0.0   0.0  0.0       0.0    0.0  ...   \n129   0.0  0.0  0.0   0.0    0.0   0.0   0.0  0.0       0.0    0.0  ...   \n130   0.0  0.0  0.0   0.0    0.0   0.0   0.0  0.0       0.0    0.0  ...   \n131   0.0  0.0  0.0   0.0    0.0   0.0   0.0  0.0       0.0    0.0  ...   \n\n     участник  факультет  флешмоб  фронт  хор  частност  черпа  электроник  \\\n0         0.0        0.0      0.0    0.0  0.0       0.0    0.0         0.0   \n1         0.0        0.0      0.0    0.0  0.0       0.0    0.0         0.0   \n2         0.0        0.0      0.0    0.0  0.0       0.0    0.0         0.0   \n3         0.0        1.0      0.0    0.0  0.0       0.0    0.0         0.0   \n4         0.0        0.0      0.0    0.0  0.0       0.0    0.0         0.0   \n..        ...        ...      ...    ...  ...       ...    ...         ...   \n127       0.0        0.0      0.0    0.0  0.0       0.0    0.0         0.0   \n128       0.0        0.0      0.0    0.0  0.0       0.0    0.0         0.0   \n129       0.0        0.0      0.0    0.0  0.0       0.0    0.0         0.0   \n130       0.0        0.0      0.0    0.0  0.0       0.0    0.0         0.0   \n131       0.0        0.0      0.0    0.0  0.0       0.0    0.0         0.0   \n\n     эпизод   эт  \n0       0.0  0.0  \n1       0.0  0.0  \n2       0.0  0.0  \n3       0.0  0.0  \n4       0.0  0.0  \n..      ...  ...  \n127     0.0  0.0  \n128     0.0  0.0  \n129     0.0  0.0  \n130     0.0  0.0  \n131     0.0  0.0  \n\n[132 rows x 105 columns]",
      "text/html": "<div>\n<style scoped>\n    .dataframe tbody tr th:only-of-type {\n        vertical-align: middle;\n    }\n\n    .dataframe tbody tr th {\n        vertical-align: top;\n    }\n\n    .dataframe thead th {\n        text-align: right;\n    }\n</style>\n<table border=\"1\" class=\"dataframe\">\n  <thead>\n    <tr style=\"text-align: right;\">\n      <th></th>\n      <th>1530</th>\n      <th>75</th>\n      <th>алл</th>\n      <th>атак</th>\n      <th>близк</th>\n      <th>боев</th>\n      <th>бойц</th>\n      <th>буд</th>\n      <th>буквальн</th>\n      <th>велик</th>\n      <th>...</th>\n      <th>участник</th>\n      <th>факультет</th>\n      <th>флешмоб</th>\n      <th>фронт</th>\n      <th>хор</th>\n      <th>частност</th>\n      <th>черпа</th>\n      <th>электроник</th>\n      <th>эпизод</th>\n      <th>эт</th>\n    </tr>\n  </thead>\n  <tbody>\n    <tr>\n      <td>0</td>\n      <td>0.0</td>\n      <td>0.0</td>\n      <td>0.0</td>\n      <td>0.0</td>\n      <td>0.0</td>\n      <td>0.0</td>\n      <td>0.0</td>\n      <td>0.0</td>\n      <td>0.0</td>\n      <td>0.0</td>\n      <td>...</td>\n      <td>0.0</td>\n      <td>0.0</td>\n      <td>0.0</td>\n      <td>0.0</td>\n      <td>0.0</td>\n      <td>0.0</td>\n      <td>0.0</td>\n      <td>0.0</td>\n      <td>0.0</td>\n      <td>0.0</td>\n    </tr>\n    <tr>\n      <td>1</td>\n      <td>0.0</td>\n      <td>0.0</td>\n      <td>0.0</td>\n      <td>0.0</td>\n      <td>0.0</td>\n      <td>0.0</td>\n      <td>0.0</td>\n      <td>0.0</td>\n      <td>0.0</td>\n      <td>0.0</td>\n      <td>...</td>\n      <td>0.0</td>\n      <td>0.0</td>\n      <td>0.0</td>\n      <td>0.0</td>\n      <td>0.0</td>\n      <td>0.0</td>\n      <td>0.0</td>\n      <td>0.0</td>\n      <td>0.0</td>\n      <td>0.0</td>\n    </tr>\n    <tr>\n      <td>2</td>\n      <td>0.0</td>\n      <td>0.0</td>\n      <td>0.0</td>\n      <td>0.0</td>\n      <td>0.0</td>\n      <td>0.0</td>\n      <td>0.0</td>\n      <td>0.0</td>\n      <td>0.0</td>\n      <td>0.0</td>\n      <td>...</td>\n      <td>0.0</td>\n      <td>0.0</td>\n      <td>0.0</td>\n      <td>0.0</td>\n      <td>0.0</td>\n      <td>0.0</td>\n      <td>0.0</td>\n      <td>0.0</td>\n      <td>0.0</td>\n      <td>0.0</td>\n    </tr>\n    <tr>\n      <td>3</td>\n      <td>0.0</td>\n      <td>0.0</td>\n      <td>0.0</td>\n      <td>0.0</td>\n      <td>0.0</td>\n      <td>0.0</td>\n      <td>0.0</td>\n      <td>0.0</td>\n      <td>0.0</td>\n      <td>0.0</td>\n      <td>...</td>\n      <td>0.0</td>\n      <td>1.0</td>\n      <td>0.0</td>\n      <td>0.0</td>\n      <td>0.0</td>\n      <td>0.0</td>\n      <td>0.0</td>\n      <td>0.0</td>\n      <td>0.0</td>\n      <td>0.0</td>\n    </tr>\n    <tr>\n      <td>4</td>\n      <td>0.0</td>\n      <td>0.0</td>\n      <td>0.0</td>\n      <td>0.0</td>\n      <td>0.0</td>\n      <td>0.0</td>\n      <td>0.0</td>\n      <td>0.0</td>\n      <td>0.0</td>\n      <td>0.0</td>\n      <td>...</td>\n      <td>0.0</td>\n      <td>0.0</td>\n      <td>0.0</td>\n      <td>0.0</td>\n      <td>0.0</td>\n      <td>0.0</td>\n      <td>0.0</td>\n      <td>0.0</td>\n      <td>0.0</td>\n      <td>0.0</td>\n    </tr>\n    <tr>\n      <td>...</td>\n      <td>...</td>\n      <td>...</td>\n      <td>...</td>\n      <td>...</td>\n      <td>...</td>\n      <td>...</td>\n      <td>...</td>\n      <td>...</td>\n      <td>...</td>\n      <td>...</td>\n      <td>...</td>\n      <td>...</td>\n      <td>...</td>\n      <td>...</td>\n      <td>...</td>\n      <td>...</td>\n      <td>...</td>\n      <td>...</td>\n      <td>...</td>\n      <td>...</td>\n      <td>...</td>\n    </tr>\n    <tr>\n      <td>127</td>\n      <td>0.0</td>\n      <td>0.0</td>\n      <td>0.0</td>\n      <td>0.0</td>\n      <td>0.0</td>\n      <td>0.0</td>\n      <td>0.0</td>\n      <td>0.0</td>\n      <td>0.0</td>\n      <td>0.0</td>\n      <td>...</td>\n      <td>0.0</td>\n      <td>0.0</td>\n      <td>0.0</td>\n      <td>0.0</td>\n      <td>0.0</td>\n      <td>0.0</td>\n      <td>0.0</td>\n      <td>0.0</td>\n      <td>0.0</td>\n      <td>0.0</td>\n    </tr>\n    <tr>\n      <td>128</td>\n      <td>1.0</td>\n      <td>0.0</td>\n      <td>0.0</td>\n      <td>0.0</td>\n      <td>0.0</td>\n      <td>0.0</td>\n      <td>0.0</td>\n      <td>0.0</td>\n      <td>0.0</td>\n      <td>0.0</td>\n      <td>...</td>\n      <td>0.0</td>\n      <td>0.0</td>\n      <td>0.0</td>\n      <td>0.0</td>\n      <td>0.0</td>\n      <td>0.0</td>\n      <td>0.0</td>\n      <td>0.0</td>\n      <td>0.0</td>\n      <td>0.0</td>\n    </tr>\n    <tr>\n      <td>129</td>\n      <td>0.0</td>\n      <td>0.0</td>\n      <td>0.0</td>\n      <td>0.0</td>\n      <td>0.0</td>\n      <td>0.0</td>\n      <td>0.0</td>\n      <td>0.0</td>\n      <td>0.0</td>\n      <td>0.0</td>\n      <td>...</td>\n      <td>0.0</td>\n      <td>0.0</td>\n      <td>0.0</td>\n      <td>0.0</td>\n      <td>0.0</td>\n      <td>0.0</td>\n      <td>0.0</td>\n      <td>0.0</td>\n      <td>0.0</td>\n      <td>0.0</td>\n    </tr>\n    <tr>\n      <td>130</td>\n      <td>0.0</td>\n      <td>0.0</td>\n      <td>0.0</td>\n      <td>0.0</td>\n      <td>0.0</td>\n      <td>0.0</td>\n      <td>0.0</td>\n      <td>0.0</td>\n      <td>0.0</td>\n      <td>0.0</td>\n      <td>...</td>\n      <td>0.0</td>\n      <td>0.0</td>\n      <td>0.0</td>\n      <td>0.0</td>\n      <td>0.0</td>\n      <td>0.0</td>\n      <td>0.0</td>\n      <td>0.0</td>\n      <td>0.0</td>\n      <td>0.0</td>\n    </tr>\n    <tr>\n      <td>131</td>\n      <td>0.0</td>\n      <td>0.0</td>\n      <td>0.0</td>\n      <td>0.0</td>\n      <td>0.0</td>\n      <td>0.0</td>\n      <td>0.0</td>\n      <td>0.0</td>\n      <td>0.0</td>\n      <td>0.0</td>\n      <td>...</td>\n      <td>0.0</td>\n      <td>0.0</td>\n      <td>0.0</td>\n      <td>0.0</td>\n      <td>0.0</td>\n      <td>0.0</td>\n      <td>0.0</td>\n      <td>0.0</td>\n      <td>0.0</td>\n      <td>0.0</td>\n    </tr>\n  </tbody>\n</table>\n<p>132 rows × 105 columns</p>\n</div>"
     },
     "metadata": {},
     "output_type": "execute_result",
     "execution_count": 71
    }
   ],
   "source": [
    "tfidf_vectorizer = TfidfVectorizer()\n",
    "values = tfidf_vectorizer.fit_transform(without_stop_words)\n",
    "\n",
    "feature_names = tfidf_vectorizer.get_feature_names()\n",
    "pd.DataFrame(values.toarray(), columns = feature_names)"
   ],
   "metadata": {
    "collapsed": false,
    "pycharm": {
     "name": "#%%\n",
     "is_executing": false
    }
   }
  }
 ],
 "metadata": {
  "kernelspec": {
   "display_name": "Python 3",
   "language": "python",
   "name": "python3"
  },
  "language_info": {
   "codemirror_mode": {
    "name": "ipython",
    "version": 2
   },
   "file_extension": ".py",
   "mimetype": "text/x-python",
   "name": "python",
   "nbconvert_exporter": "python",
   "pygments_lexer": "ipython2",
   "version": "2.7.6"
  },
  "pycharm": {
   "stem_cell": {
    "cell_type": "raw",
    "source": [],
    "metadata": {
     "collapsed": false
    }
   }
  }
 },
 "nbformat": 4,
 "nbformat_minor": 0
}