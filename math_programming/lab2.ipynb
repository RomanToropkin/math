{
 "cells": [
  {
   "cell_type": "markdown",
   "source": [
    "### Лабораторная работа 2. Вариант №4\n",
    "#### Торопкин Роман. "
   ],
   "metadata": {
    "collapsed": false,
    "pycharm": {
     "name": "#%% md\n"
    }
   }
  },
  {
   "cell_type": "code",
   "execution_count": 1,
   "metadata": {
    "collapsed": true,
    "pycharm": {
     "is_executing": false,
     "name": "#%%\n"
    }
   },
   "outputs": [],
   "source": [
    "import numpy as np\n",
    "import pandas as pd\n",
    "from scipy.optimize import linprog\n",
    "np.set_printoptions(precision=3, suppress=True)"
   ]
  },
  {
   "cell_type": "markdown",
   "source": [
    "Исходные данные задачи. \n",
    "\n",
    "![Исходные данные](https://i.ibb.co/3r5v0Dq/Uralvn.jpg)"
   ],
   "metadata": {
    "collapsed": false
   }
  },
  {
   "cell_type": "code",
   "execution_count": 2,
   "outputs": [],
   "source": [
    "A_u = np.array([[1,2,4,8],\n",
    "                 [3,5,1,0],\n",
    "                [6,0,3,1]])\n",
    "b_u = np.array([24,12,35])\n",
    "sign = ['<=','<=','<=','<=']\n",
    "c = np.array([4,2,5,8])"
   ],
   "metadata": {
    "collapsed": false,
    "pycharm": {
     "name": "#%%\n",
     "is_executing": false
    }
   }
  },
  {
   "cell_type": "markdown",
   "source": [
    "Формирование шапки строк и столбцов для симплексной таблицы"
   ],
   "metadata": {
    "collapsed": false
   }
  },
  {
   "cell_type": "code",
   "execution_count": 3,
   "outputs": [],
   "source": [
    "x_solution = [0 for i in range(0, len(c))]\n",
    "sol_index = []\n",
    "index_arr = []\n",
    "columns_arr = []\n",
    "sign_map_minus = {'>=','>'}\n",
    "for i in range (0, len(b_u) + len(c)):\n",
    "    columns_arr.append('x' + str(i + 1))\n",
    "    if i < len(c):\n",
    "        sol_index.append('x' + str(i + 1))\n",
    "for i in range (len(b_u) + 1, len(b_u) * 2 + 1):\n",
    "    index_arr.append('x' + str(i + 1))\n",
    "index_arr.append('Z')\n",
    "\n",
    "columns_arr.append('b')\n",
    "sol_index.append('Z')"
   ],
   "metadata": {
    "collapsed": false,
    "pycharm": {
     "name": "#%%\n",
     "is_executing": false
    }
   }
  },
  {
   "cell_type": "markdown",
   "source": [
    "Шапка столбца"
   ],
   "metadata": {
    "collapsed": false
   }
  },
  {
   "cell_type": "code",
   "execution_count": 4,
   "outputs": [
    {
     "data": {
      "text/plain": "['x1', 'x2', 'x3', 'x4', 'x5', 'x6', 'x7', 'b']"
     },
     "metadata": {},
     "output_type": "execute_result",
     "execution_count": 4
    }
   ],
   "source": [
    "columns_arr"
   ],
   "metadata": {
    "collapsed": false,
    "pycharm": {
     "name": "#%%\n",
     "is_executing": false
    }
   }
  },
  {
   "cell_type": "markdown",
   "source": [
    "Шапка строк"
   ],
   "metadata": {
    "collapsed": false
   }
  },
  {
   "cell_type": "code",
   "execution_count": 5,
   "outputs": [
    {
     "data": {
      "text/plain": "['x5', 'x6', 'x7', 'Z']"
     },
     "metadata": {},
     "output_type": "execute_result",
     "execution_count": 5
    }
   ],
   "source": [
    "index_arr"
   ],
   "metadata": {
    "collapsed": false,
    "pycharm": {
     "name": "#%%\n",
     "is_executing": false
    }
   }
  },
  {
   "cell_type": "markdown",
   "source": [
    "Матрица дополнительных переменных Xn+1..Xn+m"
   ],
   "metadata": {
    "collapsed": false
   }
  },
  {
   "cell_type": "code",
   "execution_count": 6,
   "outputs": [
    {
     "data": {
      "text/plain": "array([[1., 0., 0.],\n       [0., 1., 0.],\n       [0., 0., 1.]])"
     },
     "metadata": {},
     "output_type": "execute_result",
     "execution_count": 6
    }
   ],
   "source": [
    "basis = np.eye(len(b_u), dtype='float64')\n",
    "for i in range(0,len(b_u)):\n",
    "    if sign[i] in sign_map_minus:\n",
    "        basis[i][i] = -1\n",
    "basis"
   ],
   "metadata": {
    "collapsed": false,
    "pycharm": {
     "name": "#%%\n",
     "is_executing": false
    }
   }
  },
  {
   "cell_type": "markdown",
   "source": [
    "#### Сгенерированная исходная симплексная таблица"
   ],
   "metadata": {
    "collapsed": false
   }
  },
  {
   "cell_type": "code",
   "execution_count": 7,
   "outputs": [
    {
     "data": {
      "text/plain": "     x1   x2   x3   x4   x5   x6   x7     b\nx5  1.0  2.0  4.0  8.0  1.0  0.0  0.0  24.0\nx6  3.0  5.0  1.0  0.0  0.0  1.0  0.0  12.0\nx7  6.0  0.0  3.0  1.0  0.0  0.0  1.0  35.0\nZ  -4.0 -2.0 -5.0 -8.0  0.0  0.0  0.0   0.0",
      "text/html": "<div>\n<style scoped>\n    .dataframe tbody tr th:only-of-type {\n        vertical-align: middle;\n    }\n\n    .dataframe tbody tr th {\n        vertical-align: top;\n    }\n\n    .dataframe thead th {\n        text-align: right;\n    }\n</style>\n<table border=\"1\" class=\"dataframe\">\n  <thead>\n    <tr style=\"text-align: right;\">\n      <th></th>\n      <th>x1</th>\n      <th>x2</th>\n      <th>x3</th>\n      <th>x4</th>\n      <th>x5</th>\n      <th>x6</th>\n      <th>x7</th>\n      <th>b</th>\n    </tr>\n  </thead>\n  <tbody>\n    <tr>\n      <td>x5</td>\n      <td>1.0</td>\n      <td>2.0</td>\n      <td>4.0</td>\n      <td>8.0</td>\n      <td>1.0</td>\n      <td>0.0</td>\n      <td>0.0</td>\n      <td>24.0</td>\n    </tr>\n    <tr>\n      <td>x6</td>\n      <td>3.0</td>\n      <td>5.0</td>\n      <td>1.0</td>\n      <td>0.0</td>\n      <td>0.0</td>\n      <td>1.0</td>\n      <td>0.0</td>\n      <td>12.0</td>\n    </tr>\n    <tr>\n      <td>x7</td>\n      <td>6.0</td>\n      <td>0.0</td>\n      <td>3.0</td>\n      <td>1.0</td>\n      <td>0.0</td>\n      <td>0.0</td>\n      <td>1.0</td>\n      <td>35.0</td>\n    </tr>\n    <tr>\n      <td>Z</td>\n      <td>-4.0</td>\n      <td>-2.0</td>\n      <td>-5.0</td>\n      <td>-8.0</td>\n      <td>0.0</td>\n      <td>0.0</td>\n      <td>0.0</td>\n      <td>0.0</td>\n    </tr>\n  </tbody>\n</table>\n</div>"
     },
     "metadata": {},
     "output_type": "execute_result",
     "execution_count": 7
    }
   ],
   "source": [
    "b_u_T = []\n",
    "for b in b_u:\n",
    "    b_u_T.append([b])\n",
    "b_u_T = np.array(b_u_T)\n",
    "simplex_table = np.hstack([A_u, basis])\n",
    "simplex_table = np.hstack([simplex_table, b_u_T])\n",
    "Z_row = np.append(-c, np.zeros((1, len(b_u) +1)))\n",
    "simplex_table = np.vstack([simplex_table, Z_row])\n",
    "df = pd.DataFrame(data=simplex_table, index=index_arr, columns=columns_arr)\n",
    "df"
   ],
   "metadata": {
    "collapsed": false,
    "pycharm": {
     "name": "#%%\n",
     "is_executing": false
    }
   }
  },
  {
   "cell_type": "markdown",
   "source": [
    "Функция определения разрешаюшего столбца"
   ],
   "metadata": {
    "collapsed": false
   }
  },
  {
   "cell_type": "code",
   "execution_count": 8,
   "outputs": [],
   "source": [
    "def find_permitting_column(row):\n",
    "    mini = 0\n",
    "    min_index = -1\n",
    "    for i in range(0, len(row)):\n",
    "        if row[i] < mini:\n",
    "            min_index = i\n",
    "            mini = row[i]\n",
    "    return min_index"
   ],
   "metadata": {
    "collapsed": false,
    "pycharm": {
     "name": "#%%\n",
     "is_executing": false
    }
   }
  },
  {
   "cell_type": "markdown",
   "source": [
    "Функция определения разрешающей строки. Вычисление симплексных отношений"
   ],
   "metadata": {
    "collapsed": false
   }
  },
  {
   "cell_type": "code",
   "execution_count": 9,
   "outputs": [],
   "source": [
    "def find_permitting_row(table, p):\n",
    "    mini = np.inf\n",
    "    min_index = -1\n",
    "    size = np.shape(table)\n",
    "    for i in range(0, size[0]-1):\n",
    "        if table[i][p] > 0:\n",
    "            s = table[i][size[1] - 1] / table[i][p]\n",
    "            if s < mini:\n",
    "                mini = s\n",
    "                min_index = i\n",
    "    return min_index"
   ],
   "metadata": {
    "collapsed": false,
    "pycharm": {
     "name": "#%%\n",
     "is_executing": false
    }
   }
  },
  {
   "cell_type": "markdown",
   "source": [
    "Функция вычисления нового допустимого базисного решения\n",
    "            "
   ],
   "metadata": {
    "collapsed": false
   }
  },
  {
   "cell_type": "code",
   "execution_count": 10,
   "outputs": [],
   "source": [
    "def calculate(table, p, q):\n",
    "    size = np.shape(table)\n",
    "    qp = table[q][p]\n",
    "    for j in range(0, size[1] - 1):\n",
    "        table[q][j] = table[q][j] / qp\n",
    "    table[q][size[1] - 1] = table[q][size[1] - 1] / qp\n",
    "    for i in range(0, size[0]):\n",
    "        if i != q:\n",
    "            ip = -table[i][p]\n",
    "            for j in range(0, size[1] - 2):\n",
    "                table[i][j] = table[i][j] + table[q][j] * ip\n",
    "            table[i][size[1] - 1] = table[i][size[1] - 1] + table[q][size[1] - 1] * ip\n",
    "    return table"
   ],
   "metadata": {
    "collapsed": false,
    "pycharm": {
     "name": "#%%\n",
     "is_executing": false
    }
   }
  },
  {
   "cell_type": "markdown",
   "source": [
    "Проверка признака неограниченности целевой функции"
   ],
   "metadata": {
    "collapsed": false
   }
  },
  {
   "cell_type": "code",
   "execution_count": 11,
   "outputs": [],
   "source": [
    "def check_solution(table, p):\n",
    "    count = 0\n",
    "    size = np.shape(table)\n",
    "    for i in range(0, size[0]):\n",
    "        if table[i][p] <= 0:\n",
    "            count+=1\n",
    "    if count == size[0]:\n",
    "        return False\n",
    "    else:\n",
    "        return True\n"
   ],
   "metadata": {
    "collapsed": false,
    "pycharm": {
     "name": "#%%\n",
     "is_executing": false
    }
   }
  },
  {
   "cell_type": "markdown",
   "source": [
    "Симплекс-метод"
   ],
   "metadata": {
    "collapsed": false
   }
  },
  {
   "cell_type": "code",
   "execution_count": 12,
   "outputs": [
    {
     "name": "stdout",
     "text": [
      "0 итерация \n     x1   x2   x3   x4   x5   x6   x7     b\nx5  1.0  2.0  4.0  8.0  1.0  0.0  0.0  24.0\nx6  3.0  5.0  1.0  0.0  0.0  1.0  0.0  12.0\nx7  6.0  0.0  3.0  1.0  0.0  0.0  1.0  35.0\nZ  -4.0 -2.0 -5.0 -8.0  0.0  0.0  0.0   0.0\nРезрешающая строка: 1, Резрешающий столбец 4\nСуществует решение - True\n\n1 итерация \n       x1    x2   x3   x4     x5   x6   x7     b\nx4  0.125  0.25  0.5  1.0  0.125  0.0  0.0   3.0\nx6  3.000  5.00  1.0  0.0  0.000  1.0  0.0  12.0\nx7  5.875 -0.25  2.5  0.0 -0.125  0.0  1.0  32.0\nZ  -3.000  0.00 -1.0  0.0  1.000  0.0  0.0  24.0\nРезрешающая строка: 2, Резрешающий столбец 1\nСуществует решение - True\n\n2 итерация \n     x1         x2        x3   x4     x5        x6   x7     b\nx4  0.0   0.041667  0.458333  1.0  0.125 -0.041667  0.0   2.5\nx1  1.0   1.666667  0.333333  0.0  0.000  0.333333  0.0   4.0\nx7  0.0 -10.041667  0.541667  0.0 -0.125 -1.958333  1.0   8.5\nZ   0.0   5.000000  0.000000  0.0  1.000  1.000000  0.0  36.0\nРезрешающая строка: 1, Резрешающий столбец 0\nСуществует решение - True\n\n"
     ],
     "output_type": "stream"
    }
   ],
   "source": [
    "iter_count = 0\n",
    "last_index = np.shape(simplex_table)[0] - 1\n",
    "\n",
    "# Проверка текущего допустимого базисного решения на оптимальность. \n",
    "# Сразу же определяем разрешающий столбец\n",
    "permitting_column = find_permitting_column(simplex_table[last_index])\n",
    "\n",
    "# Определение разрешающей строки\n",
    "permitting_row = find_permitting_row(simplex_table, permitting_column)\n",
    "print(f'{iter_count} итерация ')\n",
    "print(df)\n",
    "print(f'Резрешающая строка: {permitting_row + 1}, Резрешающий столбец {permitting_column + 1}')\n",
    "\n",
    "# Проверка признака неогранниченности Z\n",
    "isSolution = check_solution(simplex_table, permitting_column)\n",
    "print(f'Существует решение - {isSolution}','', sep='\\n')\n",
    "index_arr[permitting_row] = columns_arr[permitting_column]\n",
    "\n",
    "# Переход к новому базису\n",
    "while permitting_column != -1 and isSolution:\n",
    "    iter_count+=1\n",
    "    print(f'{iter_count} итерация ')\n",
    "    simplex_table = calculate(simplex_table, permitting_column, permitting_row)\n",
    "    df = pd.DataFrame(data=simplex_table, index=index_arr, columns=columns_arr)\n",
    "    print(df)\n",
    "    permitting_column = find_permitting_column(simplex_table[last_index])\n",
    "    permitting_row = find_permitting_row(simplex_table, permitting_column)\n",
    "    print(f'Резрешающая строка: {permitting_row + 1}, Резрешающий столбец {permitting_column + 1}')\n",
    "    isSolution = check_solution(simplex_table, permitting_column)\n",
    "    print(f'Существует решение - {isSolution}','', sep='\\n')\n",
    "    index_arr[permitting_row] = columns_arr[permitting_column]"
   ],
   "metadata": {
    "collapsed": false,
    "pycharm": {
     "name": "#%%\n",
     "is_executing": false
    }
   }
  },
  {
   "cell_type": "markdown",
   "source": [
    "Колличество итераций "
   ],
   "metadata": {
    "collapsed": false
   }
  },
  {
   "cell_type": "code",
   "execution_count": 13,
   "outputs": [
    {
     "data": {
      "text/plain": "2"
     },
     "metadata": {},
     "output_type": "execute_result",
     "execution_count": 13
    }
   ],
   "source": [
    "iter_count"
   ],
   "metadata": {
    "collapsed": false,
    "pycharm": {
     "name": "#%%\n",
     "is_executing": false
    }
   }
  },
  {
   "cell_type": "markdown",
   "source": [
    "Итоговое решение задачи"
   ],
   "metadata": {
    "collapsed": false
   }
  },
  {
   "cell_type": "code",
   "execution_count": 14,
   "outputs": [
    {
     "data": {
      "text/plain": "    x1  x2  x3   x4     Z\n0  4.0   0   0  2.5  36.0",
      "text/html": "<div>\n<style scoped>\n    .dataframe tbody tr th:only-of-type {\n        vertical-align: middle;\n    }\n\n    .dataframe tbody tr th {\n        vertical-align: top;\n    }\n\n    .dataframe thead th {\n        text-align: right;\n    }\n</style>\n<table border=\"1\" class=\"dataframe\">\n  <thead>\n    <tr style=\"text-align: right;\">\n      <th></th>\n      <th>x1</th>\n      <th>x2</th>\n      <th>x3</th>\n      <th>x4</th>\n      <th>Z</th>\n    </tr>\n  </thead>\n  <tbody>\n    <tr>\n      <td>0</td>\n      <td>4.0</td>\n      <td>0</td>\n      <td>0</td>\n      <td>2.5</td>\n      <td>36.0</td>\n    </tr>\n  </tbody>\n</table>\n</div>"
     },
     "metadata": {},
     "output_type": "execute_result",
     "execution_count": 14
    }
   ],
   "source": [
    "for i in range(0, len(c)):\n",
    "    col = 'x' + str(i+1)\n",
    "    if col in df.index.values:\n",
    "        x_solution[i] = df['b'][col]\n",
    "x_solution.append(df['b']['Z'])\n",
    "pd.DataFrame(data=[x_solution], columns=sol_index)"
   ],
   "metadata": {
    "collapsed": false,
    "pycharm": {
     "name": "#%%\n",
     "is_executing": false
    }
   }
  },
  {
   "cell_type": "markdown",
   "source": [
    "Проверка решения встроенным симплекс - методом"
   ],
   "metadata": {
    "collapsed": false,
    "pycharm": {
     "name": "#%% md\n"
    }
   }
  },
  {
   "cell_type": "code",
   "execution_count": 15,
   "outputs": [
    {
     "name": "stdout",
     "text": [
      "Минимальное значение x: [0. 0. 0. 0.]\nОптимальное решение: -0.0\n"
     ],
     "output_type": "stream"
    }
   ],
   "source": [
    "inner_solution = linprog(-c, A_u, b_u, method='simplex')\n",
    "print(f'Минимальное значение x: {inner_solution.x}\\nОптимальное решение: {-inner_solution.fun}')"
   ],
   "metadata": {
    "collapsed": false,
    "pycharm": {
     "name": "#%%\n",
     "is_executing": false
    }
   }
  }
 ],
 "metadata": {
  "kernelspec": {
   "display_name": "Python 3",
   "language": "python",
   "name": "python3"
  },
  "language_info": {
   "codemirror_mode": {
    "name": "ipython",
    "version": 2
   },
   "file_extension": ".py",
   "mimetype": "text/x-python",
   "name": "python",
   "nbconvert_exporter": "python",
   "pygments_lexer": "ipython2",
   "version": "2.7.6"
  },
  "pycharm": {
   "stem_cell": {
    "cell_type": "raw",
    "source": [],
    "metadata": {
     "collapsed": false
    }
   }
  }
 },
 "nbformat": 4,
 "nbformat_minor": 0
}