{
 "cells": [
  {
   "cell_type": "markdown",
   "source": [
    "### Лабораторная работа № 3. Вариант №4\n",
    "##### Автор: Торопкин Р.А.\n",
    "##### Проверил: к.т.н Балашева И.Ю. "
   ],
   "metadata": {
    "collapsed": false
   }
  },
  {
   "cell_type": "code",
   "execution_count": 5,
   "metadata": {
    "collapsed": true,
    "pycharm": {
     "is_executing": false
    }
   },
   "outputs": [],
   "source": [
    "import numpy as np\n",
    "import pandas as pd\n",
    "from DefaultSymplex import DefaultSymplex\n",
    "\n",
    "A_u = np.array([[1, 1, -1],\n",
    "                [1, -5, 1]])\n",
    "b_u = np.array([4, 5])\n",
    "sign = ['<=', '>=']\n",
    "c = np.array([2, -1, -5])"
   ]
  },
  {
   "cell_type": "markdown",
   "source": [
    "Приведение задачи к каноническому виду и формирование симплекс таблицы"
   ],
   "metadata": {
    "collapsed": false,
    "pycharm": {
     "name": "#%% md\n"
    }
   }
  },
  {
   "cell_type": "code",
   "execution_count": 6,
   "outputs": [],
   "source": [
    "def _ctc(A_u, b_u, c, sign):\n",
    "    size = np.shape(A_u)\n",
    "    new_A = np.concatenate((A_u, np.eye((size[0]))), axis=1)\n",
    "    for i in range(0, len(sign)):\n",
    "        if sign[i] == '>=':\n",
    "            new_A[i] = np.dot(new_A[i], -1)\n",
    "            new_A[i][len(new_A[i]) - size[0] + i] = 1\n",
    "            b_u[i] = -b_u[i]\n",
    "    c = np.concatenate((-c, np.zeros((1,size[0]))[0]))\n",
    "    b_u = np.concatenate((b_u, [0])).reshape((3,1))\n",
    "    index_arr = []\n",
    "    columns_arr = [] \n",
    "    for i in range(0, size[0]):\n",
    "        index_arr.append(f'x{len(new_A[0]) - size[0] + i + 1}')\n",
    "    index_arr.append('Z')\n",
    "    for i in range(0, len(new_A[0])):\n",
    "        columns_arr.append(f'x{i+1}')\n",
    "    columns_arr.append('b')\n",
    "    table = np.vstack((new_A, c))\n",
    "    table = np.hstack((table, b_u))\n",
    "    df = pd.DataFrame(data=table, index=index_arr, columns=columns_arr)\n",
    "    return df\n",
    "    "
   ],
   "metadata": {
    "collapsed": false,
    "pycharm": {
     "name": "#%%\n",
     "is_executing": false
    }
   }
  },
  {
   "cell_type": "code",
   "execution_count": 7,
   "outputs": [
    {
     "data": {
      "text/plain": "     x1   x2   x3   x4   x5    b\nx4  1.0  1.0 -1.0  1.0  0.0  4.0\nx5 -1.0  5.0 -1.0  0.0  1.0 -5.0\nZ  -2.0  1.0  5.0  0.0  0.0  0.0",
      "text/html": "<div>\n<style scoped>\n    .dataframe tbody tr th:only-of-type {\n        vertical-align: middle;\n    }\n\n    .dataframe tbody tr th {\n        vertical-align: top;\n    }\n\n    .dataframe thead th {\n        text-align: right;\n    }\n</style>\n<table border=\"1\" class=\"dataframe\">\n  <thead>\n    <tr style=\"text-align: right;\">\n      <th></th>\n      <th>x1</th>\n      <th>x2</th>\n      <th>x3</th>\n      <th>x4</th>\n      <th>x5</th>\n      <th>b</th>\n    </tr>\n  </thead>\n  <tbody>\n    <tr>\n      <th>x4</th>\n      <td>1.0</td>\n      <td>1.0</td>\n      <td>-1.0</td>\n      <td>1.0</td>\n      <td>0.0</td>\n      <td>4.0</td>\n    </tr>\n    <tr>\n      <th>x5</th>\n      <td>-1.0</td>\n      <td>5.0</td>\n      <td>-1.0</td>\n      <td>0.0</td>\n      <td>1.0</td>\n      <td>-5.0</td>\n    </tr>\n    <tr>\n      <th>Z</th>\n      <td>-2.0</td>\n      <td>1.0</td>\n      <td>5.0</td>\n      <td>0.0</td>\n      <td>0.0</td>\n      <td>0.0</td>\n    </tr>\n  </tbody>\n</table>\n</div>"
     },
     "metadata": {},
     "output_type": "execute_result",
     "execution_count": 7
    }
   ],
   "source": [
    "df = _ctc(A_u, b_u, c, sign)\n",
    "df"
   ],
   "metadata": {
    "collapsed": false,
    "pycharm": {
     "name": "#%%\n",
     "is_executing": false
    }
   }
  },
  {
   "cell_type": "code",
   "execution_count": 8,
   "outputs": [
    {
     "name": "stdout",
     "text": [
      "     x1   x2   x3   x4   x5    b\n",
      "x4  1.0  1.0 -1.0  1.0  0.0  4.0\n",
      "x5 -1.0  5.0 -1.0  0.0  1.0 -5.0\n",
      "Z  -2.0  1.0  5.0  0.0  0.0  0.0\n",
      "0 итерация \n",
      "     x1   x2   x3   x4   x5    b\n",
      "x4  1.0  1.0 -1.0  1.0  0.0  4.0\n",
      "x5 -1.0  5.0 -1.0  0.0  1.0 -5.0\n",
      "Z  -2.0  1.0  5.0  0.0  0.0  0.0\n",
      "Резрешающая строка: 1, Резрешающий столбец 1\n",
      "Существует решение - True\n",
      "\n",
      "1 итерация \n",
      "     x1   x2   x3   x4   x5    b\n",
      "x1  1.0  1.0 -1.0  1.0  0.0  4.0\n",
      "x5  0.0  6.0 -2.0  1.0  1.0 -1.0\n",
      "Z   0.0  3.0  3.0  2.0  0.0  8.0\n",
      "Резрешающая строка: 1, Резрешающий столбец 0\n",
      "Существует решение - True\n",
      "\n"
     ],
     "output_type": "stream"
    },
    {
     "traceback": [
      "\u001b[0;31m---------------------------------------------------------------------------\u001b[0m",
      "\u001b[0;31mAttributeError\u001b[0m                            Traceback (most recent call last)",
      "\u001b[0;32m<ipython-input-8-0a6fa0b7f196>\u001b[0m in \u001b[0;36m<module>\u001b[0;34m()\u001b[0m\n\u001b[1;32m      1\u001b[0m \u001b[0;34m\u001b[0m\u001b[0m\n\u001b[1;32m      2\u001b[0m \u001b[0ms\u001b[0m \u001b[0;34m=\u001b[0m \u001b[0mDefaultSymplex\u001b[0m\u001b[0;34m(\u001b[0m\u001b[0mtable\u001b[0m\u001b[0;34m=\u001b[0m\u001b[0mdf\u001b[0m\u001b[0;34m)\u001b[0m\u001b[0;34m\u001b[0m\u001b[0;34m\u001b[0m\u001b[0m\n\u001b[0;32m----> 3\u001b[0;31m \u001b[0mres\u001b[0m \u001b[0;34m=\u001b[0m \u001b[0ms\u001b[0m\u001b[0;34m.\u001b[0m\u001b[0msolve\u001b[0m\u001b[0;34m(\u001b[0m\u001b[0;34m)\u001b[0m\u001b[0;34m\u001b[0m\u001b[0;34m\u001b[0m\u001b[0m\n\u001b[0m",
      "\u001b[0;32mC:\\Users\\FranQ\\PycharmProjects\\vichmat\\DefaultSymplex.py\u001b[0m in \u001b[0;36msolve\u001b[0;34m(self)\u001b[0m\n\u001b[1;32m     59\u001b[0m             \u001b[0;32mif\u001b[0m \u001b[0mcol\u001b[0m \u001b[0;32min\u001b[0m \u001b[0mself\u001b[0m\u001b[0;34m.\u001b[0m\u001b[0mtable\u001b[0m\u001b[0;34m.\u001b[0m\u001b[0mindex\u001b[0m\u001b[0;34m.\u001b[0m\u001b[0mvalues\u001b[0m\u001b[0;34m:\u001b[0m\u001b[0;34m\u001b[0m\u001b[0;34m\u001b[0m\u001b[0m\n\u001b[1;32m     60\u001b[0m                 \u001b[0mself\u001b[0m\u001b[0;34m.\u001b[0m\u001b[0m_xSolution\u001b[0m\u001b[0;34m[\u001b[0m\u001b[0mi\u001b[0m\u001b[0;34m]\u001b[0m \u001b[0;34m=\u001b[0m \u001b[0mself\u001b[0m\u001b[0;34m.\u001b[0m\u001b[0mtable\u001b[0m\u001b[0;34m[\u001b[0m\u001b[0;34m'b'\u001b[0m\u001b[0;34m]\u001b[0m\u001b[0;34m[\u001b[0m\u001b[0mcol\u001b[0m\u001b[0;34m]\u001b[0m\u001b[0;34m\u001b[0m\u001b[0;34m\u001b[0m\u001b[0m\n\u001b[0;32m---> 61\u001b[0;31m         \u001b[0mself\u001b[0m\u001b[0;34m.\u001b[0m\u001b[0m_xSolution\u001b[0m\u001b[0;34m.\u001b[0m\u001b[0mappend\u001b[0m\u001b[0;34m(\u001b[0m\u001b[0mself\u001b[0m\u001b[0;34m.\u001b[0m\u001b[0mtable\u001b[0m\u001b[0;34m[\u001b[0m\u001b[0;34m'b'\u001b[0m\u001b[0;34m]\u001b[0m\u001b[0;34m[\u001b[0m\u001b[0;34m'Z'\u001b[0m\u001b[0;34m]\u001b[0m\u001b[0;34m)\u001b[0m\u001b[0;34m\u001b[0m\u001b[0;34m\u001b[0m\u001b[0m\n\u001b[0m\u001b[1;32m     62\u001b[0m         \u001b[0mself\u001b[0m\u001b[0;34m.\u001b[0m\u001b[0mresult\u001b[0m \u001b[0;34m=\u001b[0m \u001b[0mpd\u001b[0m\u001b[0;34m.\u001b[0m\u001b[0mDataFrame\u001b[0m\u001b[0;34m(\u001b[0m\u001b[0mdata\u001b[0m\u001b[0;34m=\u001b[0m\u001b[0;34m[\u001b[0m\u001b[0mself\u001b[0m\u001b[0;34m.\u001b[0m\u001b[0m_xSolution\u001b[0m\u001b[0;34m]\u001b[0m\u001b[0;34m,\u001b[0m \u001b[0mcolumns\u001b[0m\u001b[0;34m=\u001b[0m\u001b[0mself\u001b[0m\u001b[0;34m.\u001b[0m\u001b[0m_solIndex\u001b[0m\u001b[0;34m)\u001b[0m\u001b[0;34m\u001b[0m\u001b[0;34m\u001b[0m\u001b[0m\n\u001b[1;32m     63\u001b[0m         \u001b[0;32mreturn\u001b[0m \u001b[0mself\u001b[0m\u001b[0;34m.\u001b[0m\u001b[0mresult\u001b[0m\u001b[0;34m\u001b[0m\u001b[0;34m\u001b[0m\u001b[0m\n",
      "\u001b[0;31mAttributeError\u001b[0m: 'DefaultSymplex' object has no attribute '_xSolution'"
     ],
     "ename": "AttributeError",
     "evalue": "'DefaultSymplex' object has no attribute '_xSolution'",
     "output_type": "error"
    }
   ],
   "source": [
    "s = DefaultSymplex(table=df)\n",
    "res = s.solve()"
   ],
   "metadata": {
    "collapsed": false,
    "pycharm": {
     "name": "#%%\n",
     "is_executing": false
    }
   }
  }
 ],
 "metadata": {
  "kernelspec": {
   "display_name": "Python 3",
   "language": "python",
   "name": "python3"
  },
  "language_info": {
   "codemirror_mode": {
    "name": "ipython",
    "version": 2
   },
   "file_extension": ".py",
   "mimetype": "text/x-python",
   "name": "python",
   "nbconvert_exporter": "python",
   "pygments_lexer": "ipython2",
   "version": "2.7.6"
  },
  "pycharm": {
   "stem_cell": {
    "cell_type": "raw",
    "source": [],
    "metadata": {
     "collapsed": false
    }
   }
  }
 },
 "nbformat": 4,
 "nbformat_minor": 0
}