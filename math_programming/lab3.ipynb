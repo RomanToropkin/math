{
 "cells": [
  {
   "cell_type": "markdown",
   "metadata": {},
   "source": [
    "### Лабораторная работа № 3. Вариант №4\n",
    "##### Автор: Торопкин Р.А.\n",
    "##### Проверил: к.т.н Балашева И.Ю. "
   ]
  },
  {
   "cell_type": "code",
   "execution_count": 35,
   "metadata": {
    "collapsed": true,
    "pycharm": {
     "is_executing": false
    }
   },
   "outputs": [],
   "source": [
    "import numpy as np\n",
    "import pandas as pd\n",
    "from scipy.optimize import linprog"
   ]
  },
  {
   "cell_type": "markdown",
   "metadata": {
    "pycharm": {
     "name": "#%% md\n"
    }
   },
   "source": [
    "Приведение задачи к каноническому виду и формирование симплекс таблицы"
   ]
  },
  {
   "cell_type": "code",
   "execution_count": 36,
   "metadata": {
    "pycharm": {
     "is_executing": false,
     "name": "#%%\n"
    }
   },
   "outputs": [],
   "source": [
    "def ctc(A_u, b_u, c, sign):\n",
    "    size = np.shape(A_u)\n",
    "    sol_index = []\n",
    "    c_length = len(c)\n",
    "    dop_basis_length = 0\n",
    "    x_solution = [0 for i in range(0, c_length)]\n",
    "    \n",
    "    for s in sign:\n",
    "        if s != '=':\n",
    "            dop_basis_length+=1\n",
    "           \n",
    "    if dop_basis_length != 0:\n",
    "        new_A = np.concatenate((A_u, np.eye(dop_basis_length)), axis=1)\n",
    "        for i in range(0, len(sign)):\n",
    "            if sign[i] == '>=':\n",
    "                new_A[i] = np.dot(new_A[i], -1)\n",
    "                new_A[i][len(new_A[i]) - size[0] + i] = 1\n",
    "                b_u[i] = -b_u[i]\n",
    "        c = np.concatenate((-c, np.zeros((1,dop_basis_length))[0]))\n",
    "    else:\n",
    "        new_A = A_u\n",
    "        c = -c\n",
    "    \n",
    "    b_u = np.concatenate((b_u, [0])).reshape((len(b_u)+1,1))\n",
    "    index_arr = []\n",
    "    columns_arr = [] \n",
    "    for i in range(0, size[0]):\n",
    "        index_arr.append(f'x{len(new_A[0]) - size[0] + i + 1}')\n",
    "    index_arr.append('Z')\n",
    "    for i in range(0, len(new_A[0])):\n",
    "        columns_arr.append(f'x{i+1}')\n",
    "        if i < c_length:\n",
    "            sol_index.append(f'x{i+1}')\n",
    "    columns_arr.append('b')\n",
    "    table = np.vstack((new_A, c))\n",
    "    table = np.hstack((table, b_u))\n",
    "    df = pd.DataFrame(data=table, index=index_arr, columns=columns_arr)\n",
    "    sol_index.append('Z')\n",
    "    return df, index_arr, columns_arr, sol_index, x_solution\n",
    "    "
   ]
  },
  {
   "cell_type": "markdown",
   "metadata": {},
   "source": [
    "Выбор способа решения задачи.\n",
    "\n",
    "True - двойственный метод\n",
    "\n",
    "False - обычный"
   ]
  },
  {
   "cell_type": "code",
   "execution_count": 37,
   "metadata": {
    "pycharm": {
     "is_executing": false,
     "name": "#%%\n"
    }
   },
   "outputs": [],
   "source": [
    "def checkMethod(table):\n",
    "    lastColumn = table.shape[1] - 1\n",
    "    if min(table[:-1,lastColumn]) < 0:\n",
    "        return True\n",
    "    else:\n",
    "        return False"
   ]
  },
  {
   "cell_type": "markdown",
   "metadata": {},
   "source": [
    "Проверка разрешимости задачи для двойственного метода"
   ]
  },
  {
   "cell_type": "code",
   "execution_count": 38,
   "metadata": {
    "pycharm": {
     "is_executing": false,
     "name": "#%%\n"
    }
   },
   "outputs": [],
   "source": [
    "def checkSolution(table):\n",
    "    lastColumn = table.shape[1] - 1\n",
    "    b = table[:,lastColumn]\n",
    "    for i in range(0, len(b)):\n",
    "        if b[i] < 0:\n",
    "            neg_count = len(list(filter(lambda x: (x < 0), table[i,:lastColumn])))\n",
    "            if neg_count == 0:\n",
    "                return False\n",
    "    return True"
   ]
  },
  {
   "cell_type": "markdown",
   "metadata": {},
   "source": [
    "Выбор разрешающей строки"
   ]
  },
  {
   "cell_type": "code",
   "execution_count": 39,
   "metadata": {
    "pycharm": {
     "is_executing": false,
     "name": "#%%\n"
    }
   },
   "outputs": [],
   "source": [
    "def getSolRow(table):\n",
    "    lastColumn = table.shape[1] - 1\n",
    "    b = table[:,lastColumn]\n",
    "    index = 0\n",
    "    val = 0\n",
    "    for i in range(0, len(b)):\n",
    "        if b[i] < 0:\n",
    "            if abs(b[i]) > val:\n",
    "                val = abs(b[i])\n",
    "                index = i\n",
    "    return index"
   ]
  },
  {
   "cell_type": "markdown",
   "metadata": {
    "pycharm": {
     "name": "#%% md\n"
    }
   },
   "source": [
    "Вычисление двойственных отношений и определение разрешающего столбца p"
   ]
  },
  {
   "cell_type": "code",
   "execution_count": 40,
   "metadata": {
    "pycharm": {
     "is_executing": false,
     "name": "#%%\n"
    }
   },
   "outputs": [],
   "source": [
    "def getSolCol(q, table):\n",
    "    z_index = table.shape[0] - 1\n",
    "    length = table.shape[1] - 1\n",
    "    d = [np.inf for i in range(0, length)]\n",
    "    for j in range(0, length):\n",
    "        if table[q,j] < 0:\n",
    "            d[j] = abs(table[z_index,j] / table[q,j])\n",
    "    print('Двойственные отношения:',d)\n",
    "    return np.flatnonzero(d==np.min(d))[0]"
   ]
  },
  {
   "cell_type": "markdown",
   "metadata": {},
   "source": [
    "Проверка разрешимости задачи для обычного метода на максимум"
   ]
  },
  {
   "cell_type": "code",
   "execution_count": 41,
   "metadata": {
    "pycharm": {
     "is_executing": false,
     "name": "#%%\n"
    }
   },
   "outputs": [],
   "source": [
    "def checkDefaultMaxSolution(table, p):\n",
    "    count = 0\n",
    "    size = table.shape\n",
    "    for i in range(0, size[0]):\n",
    "        if table[i][p] <= 0:\n",
    "            count+=1\n",
    "    if count == size[0]:\n",
    "        return False\n",
    "    else:\n",
    "        return True"
   ]
  },
  {
   "cell_type": "markdown",
   "metadata": {},
   "source": [
    "Проверка разрешимости задачи для обычного метода на минимум"
   ]
  },
  {
   "cell_type": "code",
   "execution_count": 42,
   "metadata": {
    "pycharm": {
     "is_executing": false,
     "name": "#%%\n"
    }
   },
   "outputs": [],
   "source": [
    "def checkDefaultMinSolution(table, p):\n",
    "    count = 0\n",
    "    size = table.shape\n",
    "    for i in range(0, size[0]):\n",
    "        if table[i][p] >= 0:\n",
    "            count+=1\n",
    "    if count == size[0]:\n",
    "        return False\n",
    "    else:\n",
    "        return True"
   ]
  },
  {
   "cell_type": "markdown",
   "metadata": {},
   "source": [
    "Вычесление разрешающего стобца для обычного метода на максимум"
   ]
  },
  {
   "cell_type": "code",
   "execution_count": 43,
   "metadata": {
    "pycharm": {
     "is_executing": false,
     "name": "#%%\n"
    }
   },
   "outputs": [],
   "source": [
    "def getDefaultMaxCol(row):\n",
    "    mini = 0\n",
    "    min_index = -1\n",
    "    for i in range(0, len(row)):\n",
    "        if row[i] < mini:\n",
    "            min_index = i\n",
    "            mini = row[i]\n",
    "    return min_index"
   ]
  },
  {
   "cell_type": "markdown",
   "metadata": {},
   "source": [
    "Вычесление разрешающего стобца для обычного метода на минимум"
   ]
  },
  {
   "cell_type": "code",
   "execution_count": 44,
   "metadata": {
    "pycharm": {
     "is_executing": false,
     "name": "#%%\n"
    }
   },
   "outputs": [],
   "source": [
    "def getDefaultMinCol(row):\n",
    "    maxi = - np.inf\n",
    "    max_index = -1\n",
    "    for i in range(0, len(row)):\n",
    "        if row[i] > maxi:\n",
    "            max_index = i\n",
    "            maxi = row[i]\n",
    "    return max_index"
   ]
  },
  {
   "cell_type": "markdown",
   "metadata": {},
   "source": [
    "Вычесление разрешающей строки для обычного метода"
   ]
  },
  {
   "cell_type": "code",
   "execution_count": 45,
   "metadata": {
    "pycharm": {
     "is_executing": false,
     "name": "#%%\n"
    }
   },
   "outputs": [],
   "source": [
    "def getDefaultRow(table, p):\n",
    "    mini = np.inf\n",
    "    min_index = -1\n",
    "    size = table.shape\n",
    "    for i in range(0, size[0]-1):\n",
    "        if table[i][p] > 0:\n",
    "            s = table[i][size[1] - 1] / table[i][p]\n",
    "            if s < mini:\n",
    "                mini = s\n",
    "                min_index = i\n",
    "    return min_index"
   ]
  },
  {
   "cell_type": "markdown",
   "metadata": {},
   "source": [
    "Пересчет таблицы по правилам обычного симплекс метода"
   ]
  },
  {
   "cell_type": "code",
   "execution_count": 46,
   "metadata": {
    "pycharm": {
     "is_executing": false,
     "name": "#%%\n"
    }
   },
   "outputs": [],
   "source": [
    "def calculate(table, q,p):\n",
    "    qp = table[q][p]\n",
    "    size = table.shape\n",
    "    for j in range(0, size[1] - 1):\n",
    "        table[q][j] = table[q][j] / qp\n",
    "    table[q][size[1] - 1] = table[q][size[1] - 1] / qp\n",
    "    for i in range(0, size[0]):\n",
    "        if i != q:\n",
    "            ip = -table[i][p]\n",
    "            for j in range(0, size[1] - 2):\n",
    "                table[i][j] = table[i][j] + table[q][j] * ip\n",
    "            table[i][size[1] - 1] = table[i][size[1] - 1] + table[q][size[1] - 1] * ip"
   ]
  },
  {
   "cell_type": "markdown",
   "metadata": {},
   "source": [
    "Определение нового базиса"
   ]
  },
  {
   "cell_type": "code",
   "execution_count": 47,
   "metadata": {
    "pycharm": {
     "is_executing": false,
     "name": "#%%\n"
    }
   },
   "outputs": [],
   "source": [
    "def newBasis(q,p, table, index_arr, columns_arr):\n",
    "    index_arr[q] = columns_arr[p]\n",
    "    return pd.DataFrame(data=table, index=index_arr, columns=columns_arr)\n",
    "    "
   ]
  },
  {
   "cell_type": "markdown",
   "metadata": {
    "pycharm": {
     "name": "#%% md\n"
    }
   },
   "source": [
    "Вычисление максимального значения функции\n",
    "\n",
    "Исходные данные задачи. \n",
    "\n",
    "![Исходные данные](https://i.ibb.co/dc9c4kr/image.png)"
   ]
  },
  {
   "cell_type": "code",
   "execution_count": 48,
   "metadata": {
    "pycharm": {
     "is_executing": false,
     "name": "#%%\n"
    }
   },
   "outputs": [
    {
     "name": "stdout",
     "output_type": "stream",
     "text": [
      "Исходная симплексная таблица\n"
     ]
    },
    {
     "data": {
      "text/html": [
       "<div>\n",
       "<style scoped>\n",
       "    .dataframe tbody tr th:only-of-type {\n",
       "        vertical-align: middle;\n",
       "    }\n",
       "\n",
       "    .dataframe tbody tr th {\n",
       "        vertical-align: top;\n",
       "    }\n",
       "\n",
       "    .dataframe thead th {\n",
       "        text-align: right;\n",
       "    }\n",
       "</style>\n",
       "<table border=\"1\" class=\"dataframe\">\n",
       "  <thead>\n",
       "    <tr style=\"text-align: right;\">\n",
       "      <th></th>\n",
       "      <th>x1</th>\n",
       "      <th>x2</th>\n",
       "      <th>x3</th>\n",
       "      <th>x4</th>\n",
       "      <th>x5</th>\n",
       "      <th>x6</th>\n",
       "      <th>b</th>\n",
       "    </tr>\n",
       "  </thead>\n",
       "  <tbody>\n",
       "    <tr>\n",
       "      <td>x4</td>\n",
       "      <td>-2.0</td>\n",
       "      <td>-1.0</td>\n",
       "      <td>2.0</td>\n",
       "      <td>1.0</td>\n",
       "      <td>0.0</td>\n",
       "      <td>0.0</td>\n",
       "      <td>-1.0</td>\n",
       "    </tr>\n",
       "    <tr>\n",
       "      <td>x5</td>\n",
       "      <td>1.0</td>\n",
       "      <td>0.0</td>\n",
       "      <td>-1.0</td>\n",
       "      <td>0.0</td>\n",
       "      <td>1.0</td>\n",
       "      <td>0.0</td>\n",
       "      <td>-1.0</td>\n",
       "    </tr>\n",
       "    <tr>\n",
       "      <td>x6</td>\n",
       "      <td>2.0</td>\n",
       "      <td>-1.0</td>\n",
       "      <td>-2.0</td>\n",
       "      <td>0.0</td>\n",
       "      <td>0.0</td>\n",
       "      <td>1.0</td>\n",
       "      <td>-1.0</td>\n",
       "    </tr>\n",
       "    <tr>\n",
       "      <td>Z</td>\n",
       "      <td>-1.0</td>\n",
       "      <td>-1.0</td>\n",
       "      <td>-1.0</td>\n",
       "      <td>0.0</td>\n",
       "      <td>0.0</td>\n",
       "      <td>0.0</td>\n",
       "      <td>0.0</td>\n",
       "    </tr>\n",
       "  </tbody>\n",
       "</table>\n",
       "</div>"
      ],
      "text/plain": [
       "     x1   x2   x3   x4   x5   x6    b\n",
       "x4 -2.0 -1.0  2.0  1.0  0.0  0.0 -1.0\n",
       "x5  1.0  0.0 -1.0  0.0  1.0  0.0 -1.0\n",
       "x6  2.0 -1.0 -2.0  0.0  0.0  1.0 -1.0\n",
       "Z  -1.0 -1.0 -1.0  0.0  0.0  0.0  0.0"
      ]
     },
     "execution_count": 48,
     "metadata": {},
     "output_type": "execute_result"
    }
   ],
   "source": [
    "A_u = np.array([[2,1,-2],\n",
    "                [-1,0,1],\n",
    "                [-2,1,2]]) # Система ограничений\n",
    "b_u = np.array([1,1,1]) # Свободные члены\n",
    "c = np.array([1,1,1]) # Коэффициенты целевой функции\n",
    "sign = ['>=','>=','>='] # Знаки неравенства ограничений\n",
    "isMin = True\n",
    "table, index_arr, columns_arr, sol_index, x_solution = ctc(A_u, b_u, c, sign) #Симплексная таблица\n",
    "iters = 0\n",
    "size = table.shape # Размер таблицы\n",
    "print('Исходная симплексная таблица')\n",
    "table"
   ]
  },
  {
   "cell_type": "code",
   "execution_count": 49,
   "metadata": {
    "pycharm": {
     "is_executing": false,
     "name": "#%%\n"
    }
   },
   "outputs": [
    {
     "name": "stdout",
     "output_type": "stream",
     "text": [
      "     x1   x2   x3   x4   x5   x6    b\n",
      "x4 -2.0 -1.0  2.0  1.0  0.0  0.0 -1.0\n",
      "x5  1.0  0.0 -1.0  0.0  1.0  0.0 -1.0\n",
      "x6  2.0 -1.0 -2.0  0.0  0.0  1.0 -1.0\n",
      "Z  -1.0 -1.0 -1.0  0.0  0.0  0.0  0.0\n",
      "Итерация 1\n",
      "Двойственные отношения: [0.5, 1.0, inf, inf, inf, inf]\n",
      "Новая таблица\n",
      "     x1   x2   x3   x4   x5   x6    b\n",
      "x1  1.0  0.5 -1.0 -0.5 -0.0 -0.0  0.5\n",
      "x5  0.0 -0.5  0.0  0.5  1.0  0.0 -1.5\n",
      "x6  0.0 -2.0  0.0  1.0  0.0  1.0 -2.0\n",
      "Z   0.0 -0.5 -2.0 -0.5  0.0  0.0  0.5\n",
      "Итерация 2\n",
      "Двойственные отношения: [inf, 0.25, inf, inf, inf, inf]\n",
      "Новая таблица\n",
      "     x1   x2   x3    x4   x5   x6    b\n",
      "x1  1.0  0.0 -1.0 -0.25  0.0 -0.0  0.0\n",
      "x5  0.0  0.0  0.0  0.25  1.0  0.0 -1.0\n",
      "x2 -0.0  1.0 -0.0 -0.50 -0.0 -0.5  1.0\n",
      "Z   0.0  0.0 -2.0 -0.75  0.0  0.0  1.0\n",
      "Итерация 3\n",
      "Задача неразрешима в силу несовместности системы ограничений, расчет прекращается\n"
     ]
    }
   ],
   "source": [
    "isSolve = False\n",
    "print(table)\n",
    "while True:\n",
    "    iters+=1\n",
    "    print('Итерация',iters)\n",
    "    if checkMethod(table.values):\n",
    "        if checkSolution(table.values):\n",
    "            q = getSolRow(table.values)\n",
    "            p = getSolCol(q, table.values)\n",
    "        else:\n",
    "            print('Задача неразрешима в силу несовместности системы ограничений, расчет прекращается')\n",
    "            break\n",
    "    else:\n",
    "        if isMin:\n",
    "            p = getDefaultMinCol(table.values[size[0]-1])\n",
    "        else:\n",
    "            p = getDefaultMaxCol(table.values[size[0]-1])\n",
    "        if p == -1:\n",
    "            print('Найдено решение')\n",
    "            isSolve = True\n",
    "            break\n",
    "        print(p)\n",
    "        if isMin:\n",
    "            if checkDefaultMinSolution(table.values, p):\n",
    "                q = getDefaultRow(table.values, p)\n",
    "            else:\n",
    "                print('Оптимальное решение отсутствует, вычисления прекращаются.')\n",
    "                break\n",
    "        else:\n",
    "            if checkDefaultMaxSolution(table.values, p):\n",
    "                q = getDefaultRow(table.values, p)\n",
    "            else:\n",
    "                print('Оптимальное решение отсутствует, вычисления прекращаются.')\n",
    "                break\n",
    "    calculate(table.values,q,p)\n",
    "    print('Новая таблица')\n",
    "    table = newBasis(q,p,table.values, index_arr,columns_arr)\n",
    "    print(table)\n",
    "if isSolve:\n",
    "    for i in range(0, len(c)):\n",
    "        col = 'x' + str(i+1)\n",
    "        if col in table.index.values:\n",
    "            x_solution[i] = table['b'][col]\n",
    "    x_solution.append(table['b']['Z'])\n",
    "    print('Итоговое решение')\n",
    "    print(pd.DataFrame(data=[x_solution], columns=sol_index))"
   ]
  },
  {
   "cell_type": "markdown",
   "metadata": {},
   "source": [
    "Проверка решения с помощью встроенной функции. Приводим коэффициенты ограничений в соответствие со знаком"
   ]
  },
  {
   "cell_type": "code",
   "execution_count": 50,
   "metadata": {
    "pycharm": {
     "is_executing": false,
     "name": "#%%\n"
    }
   },
   "outputs": [
    {
     "name": "stdout",
     "output_type": "stream",
     "text": [
      "Минимальное значение x: [0. 0. 0.]\n",
      "Оптимальное решение: -0.0\n"
     ]
    }
   ],
   "source": [
    "# A_u[1] = -A_u[1]\n",
    "# inner_solution = linprog(-c, A_u, b_u, method='simplex')\n",
    "# print(f'Минимальное значение x: {inner_solution.x}\\nОптимальное решение: {-inner_solution.fun}')\n",
    "A_u = np.array([[-2,-1,2],\n",
    "                [1,0,-1],\n",
    "                [2,-1,-2]])\n",
    "b_u = np.array([1,1,1])\n",
    "c = np.array([1,1,1])\n",
    "inner_solution = linprog(c, A_u, b_u, method='simplex')\n",
    "print(f'Минимальное значение x: {inner_solution.x}\\nОптимальное решение: {-inner_solution.fun}')"
   ]
  },
  {
   "cell_type": "markdown",
   "metadata": {},
   "source": [
    "### Контрольные вопросы:\n",
    "\n",
    "#### 1. Можно ли для задачи линейного программирования, содержащей в системе ограничений неравенства разных направлений, построить двойственную задачу?\n",
    "\n",
    "Можно, для этого необходимо все неравенства системы привести к одному направлению: >= в задаче на минимум или <= в задаче на максимум.\n",
    "\n",
    "#### 2. Если в основной задаче отсутствуют условия неотрицательности переменных, то какие последствия это влечет в двойственной задаче?\n",
    "\n",
    "Если в исходной задаче на некоторую переменную Xj не наложено условие неотрицательности, то соответствующее ей j-е ограничение двойственной задачи является равенством\n",
    "\n",
    "![Исходные данные](https://i.ibb.co/19kV9vH/image.png)\n",
    "\n",
    "#### 3. Чем отличаются матрицы систем ограничений в паре двойственных задач?\n",
    "\n",
    "Матрица системы ограничений двойственной задачи получается в результате транспонирования исходной системы, в качестве свободных членов выступают коэффициенты целевой функции\n",
    "\n",
    "#### 4. Какова связь между экстремальными значениями пары двойственных задач линейного программирования?\n",
    "\n",
    "Целевая функция в одной задаче задается на max, в другой – на min.\n",
    "\n",
    "#### 5. Что можно сказать о решении двойственной задачи, если решение основной задачи не существует по причине несовместимости ее системы ограничений?\n",
    "\n",
    "Так как понятие двойственности является взаимным, то двойственная задача является и основной. \n",
    "Первая теорема двойственности гласит, что если одна из двойственных задач не разрешима, то и другая тоже не имеет решений.\n",
    "\n",
    "#### 6. Можно ли производить симплексное преобразование, используя отрицательный разрешающий коэффициент?\n",
    "\n",
    "Только он и будет учавствовать в сиплексном преобразовании, исходя из условия разрешимости задачи\n",
    "\n",
    "#### 7. Могут ли обе двойственные задачи быть задачами на максимум?\n",
    "\n",
    "Нет, так как это уже будет другая задача и из одной задачи I1 нельзя будет получить другую задачу I2.\n",
    "\n",
    "Если одна из двойственных задач имеет оптимальное решение, то другая также имеет оптимальное решение, причем для экстремальных значений целевых функций выполняется соотношение Zmax = Tmin"
   ]
  }
 ],
 "metadata": {
  "kernelspec": {
   "display_name": "Python 3",
   "language": "python",
   "name": "python3"
  },
  "language_info": {
   "codemirror_mode": {
    "name": "ipython",
    "version": 3
   },
   "file_extension": ".py",
   "mimetype": "text/x-python",
   "name": "python",
   "nbconvert_exporter": "python",
   "pygments_lexer": "ipython3",
   "version": "3.7.4"
  },
  "pycharm": {
   "stem_cell": {
    "cell_type": "raw",
    "metadata": {
     "collapsed": false
    },
    "source": []
   }
  }
 },
 "nbformat": 4,
 "nbformat_minor": 1
}
