{
 "cells": [
  {
   "cell_type": "markdown",
   "source": [
    "## Торопкин Роман. Лабораторная работа №1. Вариант - 4"
   ],
   "metadata": {
    "collapsed": false
   }
  },
  {
   "cell_type": "code",
   "execution_count": 22,
   "metadata": {
    "collapsed": false,
    "pycharm": {
     "is_executing": false,
     "name": "#%%\n"
    }
   },
   "outputs": [],
   "source": [
    "import numpy as np\n",
    "from scipy.optimize import linprog\n",
    "np.set_printoptions(precision=3, suppress=True)"
   ]
  },
  {
   "cell_type": "markdown",
   "source": [
    "## Задача 1.\n",
    "Молочный завод выпускает молоко, кефир и сметану, расфасованные в бутылки. На производство 1 т молока, кефира и сметаны требуется соответственно 1010, 1010 и 9450 кг молока. Всего для производства продукции завод может использовать  136 000 кг молока. Затраты рабочего времени при разливе 1 т молока и кефира составляют 0,18 и 0,19 машино-часов. На расфасовке 1 т сметаны заняты специальные автоматы в течение 3,25 машино-часов. Основное оборудование может быть занято в течение 21,4 машино-часов, автоматы по расфасовке сметаны – в течение 16,25 машино-часов. Прибыль от реализации 1 т молока, кефира и сметаны соответственно равна 30, 22 и 136 ден. ед. Завод должен производить не менее 100 т молока, расфасованного в бутылки. На производство другой продукции не имеется ограничений. Требуется составить оптимальный план производства продукции."
   ],
   "metadata": {
    "collapsed": false
   }
  },
  {
   "cell_type": "code",
   "execution_count": 23,
   "outputs": [
    {
     "name": "stdout",
     "text": [
      "Коэффициенты целевой функции: [ 30  22 136]\n"
     ],
     "output_type": "stream"
    }
   ],
   "source": [
    "c = np.array([30, 22, 136])\n",
    "print(f'Коэффициенты целевой функции: {c}')"
   ],
   "metadata": {
    "collapsed": false,
    "pycharm": {
     "name": "#%%\n",
     "is_executing": false
    }
   }
  },
  {
   "cell_type": "code",
   "execution_count": 24,
   "metadata": {
    "collapsed": true,
    "pycharm": {
     "is_executing": false,
     "name": "#%%\n"
    }
   },
   "outputs": [
    {
     "name": "stdout",
     "text": [
      "Коэффициенты условия ограничений неравенства:\n [[1010.   1010.   9450.  ]\n [   0.18    0.19    0.  ]\n [   0.      0.      3.25]]\n"
     ],
     "output_type": "stream"
    }
   ],
   "source": [
    "A_ub = np.array([[1010, 1010, 9450], [0.18, 0.19, 0.0], [0, 0, 3.25]])\n",
    "print(f'Коэффициенты условия ограничений неравенства:\\n {A_ub}')"
   ]
  },
  {
   "cell_type": "code",
   "execution_count": 25,
   "metadata": {
    "collapsed": true,
    "pycharm": {
     "is_executing": false,
     "name": "#%%\n"
    }
   },
   "outputs": [
    {
     "name": "stdout",
     "text": [
      "Коэффициенты свободных членов:\n [136000.       21.4      16.25]\n"
     ],
     "output_type": "stream"
    }
   ],
   "source": [
    "b_ub = np.array([136000, 21.4, 16.25])\n",
    "print(f'Коэффициенты свободных членов:\\n {b_ub}')"
   ]
  },
  {
   "cell_type": "code",
   "execution_count": 26,
   "outputs": [
    {
     "name": "stdout",
     "text": [
      "Границы x: \n[(100, None), (0, None), (0, None)]\n"
     ],
     "output_type": "stream"
    }
   ],
   "source": [
    "x1_bounds = (100, None)\n",
    "x2_bounds = (0, None)\n",
    "x3_bounds = (0, None)\n",
    "bounds = [x1_bounds, x2_bounds, x3_bounds]\n",
    "print(f'Границы x: \\n{bounds}')"
   ],
   "metadata": {
    "collapsed": false,
    "pycharm": {
     "name": "#%%\n",
     "is_executing": false
    }
   }
  },
  {
   "cell_type": "markdown",
   "source": [
    "Функция linprog находит минимальное решение. Для того, чтобы найти максимальное, необходимо коэфициенты записать с противоположным знаком и итоговую функцию умножить на -1 "
   ],
   "metadata": {
    "collapsed": false,
    "pycharm": {
     "name": "#%% md\n"
    }
   }
  },
  {
   "cell_type": "code",
   "execution_count": 27,
   "outputs": [
    {
     "name": "stdout",
     "text": [
      "Максимальное значение x: \n[118.889   0.      1.685]\nОптимальное решение: 3795.812\n"
     ],
     "output_type": "stream"
    }
   ],
   "source": [
    "res = linprog(c=-c, A_ub = A_ub, b_ub = b_ub, bounds=bounds)\n",
    "print(f'Максимальное значение x: \\n{res.x}\\nОптимальное решение: {-1 * res.fun:.3f}')"
   ],
   "metadata": {
    "collapsed": false,
    "pycharm": {
     "name": "#%%\n",
     "is_executing": false
    }
   }
  },
  {
   "cell_type": "markdown",
   "source": [
    "## Задача 2\n",
    "\n",
    "Z = 3x1 + x2 + 10 -> min\n",
    "\n",
    "x1 + x2 >= 2\n",
    "\n",
    "x1 - x2 <=0\n",
    "\n",
    "x1 >= 0.5\n",
    "\n",
    "x2 < =4"
   ],
   "metadata": {
    "collapsed": false,
    "pycharm": {
     "name": "#%% md\n"
    }
   }
  },
  {
   "cell_type": "code",
   "execution_count": 28,
   "outputs": [],
   "source": [
    "import matplotlib.pyplot as plt\n",
    "L1 = lambda x: 2 - x\n",
    "L2 = lambda x: x\n",
    "c = [[3],[1]]\n",
    "p = [[-1/3],[5]]\n",
    "m = [[1/3],[-5]]"
   ],
   "metadata": {
    "collapsed": false,
    "pycharm": {
     "name": "#%%\n",
     "is_executing": false
    }
   }
  },
  {
   "cell_type": "markdown",
   "source": [
    "Массив точек на графике"
   ],
   "metadata": {
    "collapsed": false,
    "pycharm": {
     "name": "#%% md\n"
    }
   }
  },
  {
   "cell_type": "code",
   "execution_count": 29,
   "outputs": [],
   "source": [
    "x1 = np.linspace(0,5,100)\n",
    "y1 = L1(x1)\n",
    "y2 = L2(x1)\n",
    "y3 = np.full((100), 4)\n",
    "A = np.array([[1,1],[1,-1],[1,0],[0,1]])\n",
    "b = np.array([2,0,0.5,4])"
   ],
   "metadata": {
    "collapsed": false,
    "pycharm": {
     "name": "#%%\n",
     "is_executing": false
    }
   }
  },
  {
   "cell_type": "markdown",
   "source": [
    "Построение графика"
   ],
   "metadata": {
    "collapsed": false,
    "pycharm": {
     "name": "#%% md\n"
    }
   }
  },
  {
   "cell_type": "code",
   "execution_count": null,
   "outputs": [],
   "source": [
    "plt.figure(figsize=(8,6))\n",
    "fig, ax = plt.subplots()    \n",
    "ax.grid()\n",
    "ax.plot(x1, y1, label=\"L1\")    \n",
    "ax.plot(x1, y2, label=\"L2\")  \n",
    "ax.plot(x1 , y3, label=\"L3\")\n",
    "ax.plot(np.full((100,), 0.5), np.linspace(0,10,100),  label=\"L4\")\n",
    "ax.quiver(c[0], c[1], angles='xy', scale_units='xy', scale=1)\n",
    "ax.quiver(p[0], p[1], angles='xy', scale_units='xy', scale=1)\n",
    "ax.quiver(m[0], m[1], angles='xy', scale_units='xy', scale=1)\n",
    "ax.set_xlabel(\"x1\")\n",
    "ax.set_ylabel(\"x2\")\n",
    "ax.axhline(y=0, color='k')\n",
    "ax.axvline(x=0, color='k')   \n",
    "\n",
    "for i in range(0, len(A)):\n",
    "    for j in range(i+1, len(A)):\n",
    "        A1 = np.array([A[i], A[j]])\n",
    "        b1 = np.array([b[i],b[j]])\n",
    "        X = np.linalg.solve(A1, b1)\n",
    "        ax.plot(X[0],X[1],marker=\"o\",label=X)\n",
    "ax.legend()\n",
    "plt.show()  "
   ],
   "metadata": {
    "collapsed": false,
    "pycharm": {
     "name": "#%%\n",
     "is_executing": true
    }
   }
  },
  {
   "cell_type": "markdown",
   "source": [
    "Выбираем точку в зависимости от направления вектора C"
   ],
   "metadata": {
    "collapsed": false,
    "pycharm": {
     "name": "#%% md\n"
    }
   }
  },
  {
   "cell_type": "code",
   "execution_count": null,
   "outputs": [],
   "source": [
    "Z = c[0][0] * 0.5 + c[1][0] * 1.5 + 10\n",
    "print(Z)"
   ],
   "metadata": {
    "collapsed": false,
    "pycharm": {
     "name": "#%%\n",
     "is_executing": true
    }
   }
  },
  {
   "cell_type": "markdown",
   "source": [
    "Делаем проверку"
   ],
   "metadata": {
    "collapsed": false,
    "pycharm": {
     "name": "#%% md\n"
    }
   }
  },
  {
   "cell_type": "code",
   "execution_count": null,
   "outputs": [],
   "source": [
    "c = np.array([3,1])\n",
    "A_ub = np.array([[-1,-1],[1,-1]])\n",
    "b_ub = np.array([-2, 0])\n",
    "bounds = [(0.5,None), (0, 4)]\n",
    "res = linprog(c=c, A_ub = A_ub, b_ub = b_ub, bounds=bounds)\n",
    "print(f'Минимальное значение x: \\n{res.x}\\nОптимальное решение: {res.fun + 10:.3f}')"
   ],
   "metadata": {
    "collapsed": false,
    "pycharm": {
     "name": "#%%\n",
     "is_executing": true
    }
   }
  }
 ],
 "metadata": {
  "kernelspec": {
   "display_name": "Python 3",
   "language": "python",
   "name": "python3"
  },
  "language_info": {
   "codemirror_mode": {
    "name": "ipython",
    "version": 2
   },
   "file_extension": ".py",
   "mimetype": "text/x-python",
   "name": "python",
   "nbconvert_exporter": "python",
   "pygments_lexer": "ipython2",
   "version": "2.7.6"
  },
  "pycharm": {
   "stem_cell": {
    "cell_type": "raw",
    "source": [],
    "metadata": {
     "collapsed": false
    }
   }
  }
 },
 "nbformat": 4,
 "nbformat_minor": 0
}