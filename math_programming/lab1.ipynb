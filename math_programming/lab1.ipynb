{
 "cells": [
  {
   "cell_type": "markdown",
   "source": [
    "Торопкин Роман. Лаборатораня работа №1. Вариант - 4"
   ],
   "metadata": {
    "collapsed": false
   }
  },
  {
   "cell_type": "code",
   "execution_count": 157,
   "metadata": {
    "collapsed": false,
    "pycharm": {
     "is_executing": false,
     "name": "#%%\n"
    }
   },
   "outputs": [],
   "source": [
    "import numpy as np\n",
    "from scipy.optimize import linprog"
   ]
  },
  {
   "cell_type": "markdown",
   "source": [
    "Задача 1.Молочный завод выпускает молоко, кефир и сметану, расфасованные в бутылки. На производство 1 т молока, кефира и сметаны требуется соответственно 1010, 1010 и 9450 кг молока. Всего для производства продукции завод может использовать  136 000 кг молока. Затраты рабочего времени при разливе 1 т молока и кефира составляют 0,18 и 0,19 машино-часов. На расфасовке 1 т сметаны заняты специальные автоматы в течение 3,25 машино-часов. Основное оборудование может быть занято в течение 21,4 машино-часов, автоматы по расфасовке сметаны – в течение 16,25 машино-часов. Прибыль от реализации 1 т молока, кефира и сметаны соответственно равна 30, 22 и 136 ден. ед. Завод должен производить не менее 100 т молока, расфасованного в бутылки. На производство другой продукции не имеется ограничений. Требуется составить оптимальный план производства продукции."
   ],
   "metadata": {
    "collapsed": false
   }
  },
  {
   "cell_type": "code",
   "execution_count": 158,
   "outputs": [
    {
     "name": "stdout",
     "text": [
      "Коэффициенты целевой функции: [ 30  22 136]\n"
     ],
     "output_type": "stream"
    }
   ],
   "source": [
    "c = np.array([30, 22, 136])\n",
    "print(f'Коэффициенты целевой функции: {c}')"
   ],
   "metadata": {
    "collapsed": false,
    "pycharm": {
     "name": "#%%\n",
     "is_executing": false
    }
   }
  },
  {
   "cell_type": "code",
   "execution_count": 159,
   "metadata": {
    "collapsed": true,
    "pycharm": {
     "is_executing": false,
     "name": "#%%\n"
    }
   },
   "outputs": [
    {
     "name": "stdout",
     "text": [
      "Коэффициенты условия ограничений неравенства:\n",
      " [[1.01e+03 1.01e+03 9.45e+03]\n",
      " [1.80e-01 1.90e-01 0.00e+00]\n",
      " [0.00e+00 0.00e+00 3.25e+00]]\n"
     ],
     "output_type": "stream"
    }
   ],
   "source": [
    "A_ub = np.array([[1010.0, 1010.0, 9450.0], [0.18, 0.19, 0.0], [0.0, 0.0, 3.25]])\n",
    "print(f'Коэффициенты условия ограничений неравенства:\\n {A_ub}')"
   ]
  },
  {
   "cell_type": "code",
   "execution_count": 160,
   "metadata": {
    "collapsed": true,
    "pycharm": {
     "is_executing": false,
     "name": "#%%\n"
    }
   },
   "outputs": [
    {
     "name": "stdout",
     "text": [
      "Коэффициенты свободных членов:\n",
      " [1.360e+05 2.140e+01 1.625e+01]\n"
     ],
     "output_type": "stream"
    }
   ],
   "source": [
    "b_ub = np.array([136000, 21.4, 16.25])\n",
    "print(f'Коэффициенты свободных членов:\\n {b_ub}')"
   ]
  },
  {
   "cell_type": "code",
   "execution_count": 161,
   "outputs": [
    {
     "name": "stdout",
     "text": [
      "Границы x: \n",
      "[(100, None), (None, None), (None, None)]\n"
     ],
     "output_type": "stream"
    }
   ],
   "source": [
    "x1_bounds = (100, None)\n",
    "x2_bounds = (None, None)\n",
    "x3_bounds = (None, None)\n",
    "bounds = [x1_bounds, x2_bounds, x3_bounds]\n",
    "print(f'Границы x: \\n{bounds}')"
   ],
   "metadata": {
    "collapsed": false,
    "pycharm": {
     "name": "#%%\n",
     "is_executing": false
    }
   }
  },
  {
   "cell_type": "markdown",
   "source": [
    "Функция linprog находит минимальное решение. Для того, чтобы найти максимальное, необходимо коэфициенты записать с противоположным знаком и итоговую функцию умножить на -1 "
   ],
   "metadata": {
    "collapsed": false,
    "pycharm": {
     "name": "#%% md\n"
    }
   }
  },
  {
   "cell_type": "code",
   "execution_count": 162,
   "outputs": [
    {
     "name": "stdout",
     "text": [
      "Optimization failed. The problem appears to be unbounded.\n",
      "         Iterations: 3\n",
      "Максимальное значение x: \n",
      "[118.88888889   0.           1.68489124];\n",
      "оптимальное решение: 3795.8118753674307\n"
     ],
     "output_type": "stream"
    }
   ],
   "source": [
    "res = linprog(c=-c, A_ub = A_ub, b_ub = b_ub, bounds=bounds, options={\"disp\": True})\n",
    "print(f'Максимальное значение x: \\n{res.x};\\nоптимальное решение: {-1 * res.fun}')"
   ],
   "metadata": {
    "collapsed": false,
    "pycharm": {
     "name": "#%%\n",
     "is_executing": false
    }
   }
  },
  {
   "cell_type": "markdown",
   "source": [
    "Построение графика"
   ],
   "metadata": {
    "collapsed": false,
    "pycharm": {
     "name": "#%% md\n"
    }
   }
  },
  {
   "cell_type": "code",
   "execution_count": 165,
   "outputs": [],
   "source": [
    "import matplotlib.pyplot as plt\n",
    "L1 = lambda x: 3 - 2/3 * x\n",
    "L2 = lambda x: 13/2 - (3/2) * x\n",
    "L3 = lambda x: -1 + x"
   ],
   "metadata": {
    "collapsed": false,
    "pycharm": {
     "name": "#%%\n",
     "is_executing": false
    }
   }
  },
  {
   "cell_type": "code",
   "execution_count": 168,
   "outputs": [
    {
     "data": {
      "text/plain": "<Figure size 432x288 with 1 Axes>",
      "image/png": "[encoded data removed]"
     },
     "metadata": {
      "needs_background": "light"
     },
     "output_type": "display_data"
    }
   ],
   "source": [
    "x1 = np.linspace(0,5,100)\n",
    "y1 = L1(x1)\n",
    "y2 = L2(x1)\n",
    "y3 = L3(x1)\n",
    "y4 = np.full((100), 2)\n",
    "\n",
    "fig, ax = plt.subplots()                        \n",
    "ax.plot(x1, y1, color=\"blue\", label=\"L1\")    \n",
    "ax.plot(x1, y2, color=\"red\", label=\"L2\")  \n",
    "ax.plot(x1, y3, color=\"green\", label=\"L3\")\n",
    "ax.plot(x1, y4, color=\"yellow\", label=\"L4\")\n",
    "ax.set_xlabel(\"x1\")\n",
    "ax.set_ylabel(\"x2\")\n",
    "ax.axhline(y=0, color='k')\n",
    "ax.axvline(x=0, color='k')\n",
    "ax.legend()\n",
    "plt.show()      "
   ],
   "metadata": {
    "collapsed": false,
    "pycharm": {
     "name": "#%%\n",
     "is_executing": false
    }
   }
  }
 ],
 "metadata": {
  "kernelspec": {
   "display_name": "Python 3",
   "language": "python",
   "name": "python3"
  },
  "language_info": {
   "codemirror_mode": {
    "name": "ipython",
    "version": 2
   },
   "file_extension": ".py",
   "mimetype": "text/x-python",
   "name": "python",
   "nbconvert_exporter": "python",
   "pygments_lexer": "ipython2",
   "version": "2.7.6"
  },
  "pycharm": {
   "stem_cell": {
    "cell_type": "raw",
    "source": [],
    "metadata": {
     "collapsed": false
    }
   }
  }
 },
 "nbformat": 4,
 "nbformat_minor": 0
}