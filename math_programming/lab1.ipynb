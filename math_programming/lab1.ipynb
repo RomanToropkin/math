{
 "cells": [
  {
   "cell_type": "code",
   "execution_count": 22,
   "metadata": {
    "collapsed": true,
    "pycharm": {
     "is_executing": false,
     "name": "#%%\n"
    }
   },
   "outputs": [
    {
     "name": "stdout",
     "text": [
      "Коэффициенты целевой функции: [-300 -250 -560 -480]\nКоэффициенты условия ограничений неравенства:\n [[ 3  5  2  4]\n [22 14 18 30]\n [10 14  8 16]]\nКоэффициенты свободных членов:\n [ 60 400 128]\nМаксимальное значение x: 15.999999999920004, оптимальное решение: 8959.999999955886\n"
     ],
     "output_type": "stream"
    }
   ],
   "source": [
    "import numpy as np\n",
    "from scipy.optimize import linprog\n",
    "\n",
    "c = np.array([-300, -250, -560, -480])\n",
    "print(f'Коэффициенты целевой функции: {c}')\n",
    "A_ub = np.array([[3, 5, 2, 4], [22, 14, 18,30],[10,14,8,16]])\n",
    "print(f'Коэффициенты условия ограничений неравенства:\\n {A_ub}')\n",
    "b_ub = np.array([60, 400, 128])\n",
    "print(f'Коэффициенты свободных членов:\\n {b_ub}')\n",
    "res = linprog(c, A_ub, b_ub)\n",
    "print(f'Максимальное значение x: {max(res.x)}, оптимальное решение: {-1 * res.fun}')\n"
   ]
  }
 ],
 "metadata": {
  "kernelspec": {
   "display_name": "Python 3",
   "language": "python",
   "name": "python3"
  },
  "language_info": {
   "codemirror_mode": {
    "name": "ipython",
    "version": 2
   },
   "file_extension": ".py",
   "mimetype": "text/x-python",
   "name": "python",
   "nbconvert_exporter": "python",
   "pygments_lexer": "ipython2",
   "version": "2.7.6"
  },
  "pycharm": {
   "stem_cell": {
    "cell_type": "raw",
    "source": [],
    "metadata": {
     "collapsed": false
    }
   }
  }
 },
 "nbformat": 4,
 "nbformat_minor": 0
}