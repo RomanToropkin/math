{
 "cells": [
  {
   "cell_type": "markdown",
   "metadata": {
    "collapsed": false
   },
   "source": [
    "Создание массива "
   ]
  },
  {
   "cell_type": "code",
   "execution_count": 2,
   "metadata": {
    "collapsed": true,
    "pycharm": {
     "name": "#%%\n",
     "is_executing": false
    }
   },
   "outputs": [
    {
     "name": "stdout",
     "text": [
      "[1 4 5 3 2]\n"
     ],
     "output_type": "stream"
    }
   ],
   "source": [
    "import numpy as np\n",
    "\n",
    "n1 = np.array([1,4,5,3,2])\n",
    "print(n1)"
   ]
  },
  {
   "cell_type": "markdown",
   "metadata": {
    "collapsed": false,
    "pycharm": {
     "name": "#%% md\n"
    }
   },
   "source": [
    "Создание массива целых цисел длины 10, заполенный нулями"
   ]
  },
  {
   "cell_type": "code",
   "execution_count": 3,
   "metadata": {
    "collapsed": false,
    "pycharm": {
     "name": "#%%\n",
     "is_executing": false
    }
   },
   "outputs": [
    {
     "name": "stdout",
     "text": [
      "[0 0 0 0 0 0 0 0 0 0]\n"
     ],
     "output_type": "stream"
    }
   ],
   "source": [
    "n2 = np.zeros(10, dtype=int)\n",
    "print(n2)"
   ]
  },
  {
   "cell_type": "markdown",
   "metadata": {
    "collapsed": false
   },
   "source": [
    "Создание массива размером 3 х 5, заполненный единицами"
   ]
  },
  {
   "cell_type": "code",
   "execution_count": 4,
   "metadata": {
    "collapsed": false,
    "pycharm": {
     "name": "#%%\n",
     "is_executing": false
    }
   },
   "outputs": [
    {
     "name": "stdout",
     "text": [
      "[[1. 1. 1. 1. 1.]\n [1. 1. 1. 1. 1.]\n [1. 1. 1. 1. 1.]]\n"
     ],
     "output_type": "stream"
    }
   ],
   "source": [
    "n3 = np.ones((3,5), dtype=float)\n",
    "print(n3)\n"
   ]
  },
  {
   "cell_type": "markdown",
   "metadata": {
    "collapsed": false
   },
   "source": [
    "Создание массива целых цисел длины 10, заполенный значением 3.14"
   ]
  },
  {
   "cell_type": "code",
   "execution_count": 5,
   "metadata": {
    "collapsed": false,
    "pycharm": {
     "name": "#%%\n",
     "is_executing": false
    }
   },
   "outputs": [
    {
     "name": "stdout",
     "text": [
      "[[3.14 3.14 3.14 3.14 3.14]\n [3.14 3.14 3.14 3.14 3.14]\n [3.14 3.14 3.14 3.14 3.14]]\n"
     ],
     "output_type": "stream"
    }
   ],
   "source": [
    "n4 = np.full((3,5), 3.14)\n",
    "print(n4)\n"
   ]
  },
  {
   "cell_type": "markdown",
   "metadata": {
    "collapsed": false
   },
   "source": [
    "Создаем массив, заполенный линейной последовательностью, начинающийся с 0 и заканчивающейся 20, с шагом 2"
   ]
  },
  {
   "cell_type": "code",
   "execution_count": 6,
   "outputs": [
    {
     "name": "stdout",
     "text": [
      "[ 0  2  4  6  8 10 12 14 16 18]\n"
     ],
     "output_type": "stream"
    }
   ],
   "source": [
    "n5 = np.arange(0,20,2)\n",
    "print(n5)\n"
   ],
   "metadata": {
    "collapsed": false,
    "pycharm": {
     "name": "#%%\n",
     "is_executing": false
    }
   }
  },
  {
   "cell_type": "markdown",
   "metadata": {
    "collapsed": false
   },
   "source": [
    "Создаем массив (сетку) из пяти значений, равномерно располагающихся между 0 и 1"
   ]
  },
  {
   "cell_type": "code",
   "execution_count": 7,
   "metadata": {
    "collapsed": false,
    "pycharm": {
     "name": "#%%\n",
     "is_executing": false
    }
   },
   "outputs": [
    {
     "name": "stdout",
     "text": [
      "[0.   0.25 0.5  0.75 1.  ]\n"
     ],
     "output_type": "stream"
    }
   ],
   "source": [
    "n6 = np.linspace(0,1,5)\n",
    "print(n6)"
   ]
  },
  {
   "cell_type": "markdown",
   "metadata": {
    "collapsed": false
   },
   "source": [
    "Создаем массив размером 3 х 3 равномерно распределённых случайных значений от 1 до 1 "
   ]
  },
  {
   "cell_type": "code",
   "execution_count": 8,
   "metadata": {
    "collapsed": false,
    "pycharm": {
     "name": "#%%\n",
     "is_executing": false
    }
   },
   "outputs": [
    {
     "name": "stdout",
     "text": [
      "[[0.04543945 0.83378415 0.83655643]\n [0.20488242 0.55331548 0.45249888]\n [0.97512313 0.02223649 0.91403568]]\n"
     ],
     "output_type": "stream"
    }
   ],
   "source": [
    "n7 = np.random.random((3,3))\n",
    "print(n7)"
   ]
  },
  {
   "cell_type": "markdown",
   "metadata": {
    "collapsed": false
   },
   "source": [
    "Созданием массив размером 3 х 3 нормально распределенных случайных значений с медианой 0 и стандартным отклонением 1"
   ]
  },
  {
   "cell_type": "code",
   "execution_count": 9,
   "metadata": {
    "collapsed": false,
    "pycharm": {
     "name": "#%%\n",
     "is_executing": false
    }
   },
   "outputs": [
    {
     "name": "stdout",
     "text": [
      "[[ 0.91789505  0.29844641 -1.4005406 ]\n [ 0.0213368   0.40400566  0.39158827]\n [-0.31539712  0.55684595 -0.2690796 ]]\n"
     ],
     "output_type": "stream"
    }
   ],
   "source": [
    "n8 = np.random.normal(0,1,(3,3))\n",
    "print(n8)"
   ]
  },
  {
   "cell_type": "markdown",
   "metadata": {
    "collapsed": false
   },
   "source": [
    "Созданием массив размером 3 х 3 случайных целых чисел в промежутке [0;10)"
   ]
  },
  {
   "cell_type": "code",
   "execution_count": 10,
   "metadata": {
    "collapsed": false,
    "pycharm": {
     "name": "#%%\n",
     "is_executing": false
    }
   },
   "outputs": [
    {
     "name": "stdout",
     "text": [
      "[[3 7 7]\n [6 7 7]\n [5 9 2]]\n"
     ],
     "output_type": "stream"
    }
   ],
   "source": [
    "n9 = np.random.randint(0,10,(3,3))\n",
    "print(n9)"
   ]
  },
  {
   "cell_type": "markdown",
   "metadata": {
    "collapsed": false
   },
   "source": [
    "Созаем единичную матрицу размером 3 х 3"
   ]
  },
  {
   "cell_type": "code",
   "execution_count": 11,
   "metadata": {
    "collapsed": false,
    "pycharm": {
     "name": "#%%\n",
     "is_executing": false
    }
   },
   "outputs": [
    {
     "name": "stdout",
     "text": [
      "[[1. 0. 0.]\n [0. 1. 0.]\n [0. 0. 1.]]\n"
     ],
     "output_type": "stream"
    }
   ],
   "source": [
    "n10 = np.eye(3)\n",
    "print(n10)"
   ]
  },
  {
   "cell_type": "markdown",
   "source": [
    "Изменение формы массивов"
   ],
   "metadata": {
    "collapsed": false,
    "pycharm": {
     "name": "#%% md\n"
    }
   }
  },
  {
   "cell_type": "code",
   "execution_count": 12,
   "outputs": [
    {
     "name": "stdout",
     "text": [
      "[1 2 3 4 5 6 7 8 9]\n[[1 2 3]\n [4 5 6]\n [7 8 9]]\n"
     ],
     "output_type": "stream"
    }
   ],
   "source": [
    "grid = np.arange(1,10)\n",
    "print(grid)\n",
    "grid = grid.reshape((3,3))\n",
    "print(grid)"
   ],
   "metadata": {
    "collapsed": false,
    "pycharm": {
     "name": "#%%\n",
     "is_executing": false
    }
   }
  },
  {
   "cell_type": "markdown",
   "source": [
    "Слияние и разбиение массивов\n"
   ],
   "metadata": {
    "collapsed": false,
    "pycharm": {
     "name": "#%% md\n"
    }
   }
  },
  {
   "cell_type": "code",
   "execution_count": 14,
   "outputs": [
    {
     "name": "stdout",
     "text": [
      "[1 2 3 3 2 1]\n"
     ],
     "output_type": "stream"
    }
   ],
   "source": [
    "x = np.array([1,2,3])\n",
    "y = np.array([3,2,1])\n",
    "print(np.concatenate([x,y]))"
   ],
   "metadata": {
    "collapsed": false,
    "pycharm": {
     "name": "#%%\n",
     "is_executing": false
    }
   }
  },
  {
   "cell_type": "code",
   "execution_count": 19,
   "outputs": [
    {
     "name": "stdout",
     "text": [
      "[[1 2 3]\n [9 8 7]\n [6 5 4]]\n"
     ],
     "output_type": "stream"
    }
   ],
   "source": [
    "x = np.array([1,2,3])\n",
    "y = np.array([[9,8,7], [6,5,4]])\n",
    "print(np.vstack([x,y]))"
   ],
   "metadata": {
    "collapsed": false,
    "pycharm": {
     "name": "#%%\n",
     "is_executing": false
    }
   }
  },
  {
   "cell_type": "code",
   "execution_count": 20,
   "outputs": [
    {
     "name": "stdout",
     "text": [
      "[[ 9  8  7 99]\n [ 6  5  4 99]]\n"
     ],
     "output_type": "stream"
    }
   ],
   "source": [
    "x = np.array([[99],[99]])\n",
    "print(np.hstack([y,x]))"
   ],
   "metadata": {
    "collapsed": false,
    "pycharm": {
     "name": "#%%\n",
     "is_executing": false
    }
   }
  },
  {
   "cell_type": "code",
   "execution_count": 21,
   "outputs": [
    {
     "name": "stdout",
     "text": [
      "[1 2 3] [99 99] [3 2 1]\n"
     ],
     "output_type": "stream"
    }
   ],
   "source": [
    "x = [1,2,3,99,99,3,2,1]\n",
    "x1,x2,x3 = np.split(x, [3,5])\n",
    "print(x1,x2,x3)"
   ],
   "metadata": {
    "collapsed": false,
    "pycharm": {
     "name": "#%%\n",
     "is_executing": false
    }
   }
  },
  {
   "cell_type": "markdown",
   "source": [
    "Универсальные функции"
   ],
   "metadata": {
    "collapsed": false,
    "pycharm": {
     "name": "#%% md\n"
    }
   }
  },
  {
   "cell_type": "code",
   "execution_count": null,
   "outputs": [],
   "source": [
    "\n"
   ],
   "metadata": {
    "collapsed": false,
    "pycharm": {
     "name": "#%%\n"
    }
   }
  }
 ],
 "metadata": {
  "kernelspec": {
   "name": "python3",
   "language": "python",
   "display_name": "Python 3"
  },
  "language_info": {
   "codemirror_mode": {
    "name": "ipython",
    "version": 2
   },
   "file_extension": ".py",
   "mimetype": "text/x-python",
   "name": "python",
   "nbconvert_exporter": "python",
   "pygments_lexer": "ipython2",
   "version": "2.7.6"
  },
  "pycharm": {
   "stem_cell": {
    "cell_type": "raw",
    "source": [],
    "metadata": {
     "collapsed": false
    }
   }
  }
 },
 "nbformat": 4,
 "nbformat_minor": 0
}