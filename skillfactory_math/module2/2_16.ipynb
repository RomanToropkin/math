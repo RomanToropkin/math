{
 "cells": [
  {
   "cell_type": "code",
   "execution_count": 7,
   "metadata": {
    "collapsed": true,
    "pycharm": {
     "is_executing": false
    }
   },
   "outputs": [],
   "source": [
    "import pandas as pd\n",
    "import numpy as np\n",
    "from sklearn import preprocessing"
   ]
  },
  {
   "cell_type": "code",
   "execution_count": 6,
   "outputs": [
    {
     "data": {
      "text/plain": "(array([1.9922, 0.0078]), array([[ 0.70710678, -0.70710678],\n        [ 0.70710678,  0.70710678]]))"
     },
     "metadata": {},
     "output_type": "execute_result",
     "execution_count": 6
    }
   ],
   "source": [
    "С = np.array([[1,0.9922],[0.9922,1]])\n",
    "np.linalg.eig(С)"
   ],
   "metadata": {
    "collapsed": false,
    "pycharm": {
     "name": "#%%\n",
     "is_executing": false
    }
   }
  },
  {
   "cell_type": "code",
   "execution_count": 22,
   "outputs": [],
   "source": [
    "x1 = np.array([1,2,1,1])\n",
    "x2 = np.array([70,130,65,60])\n"
   ],
   "metadata": {
    "collapsed": false,
    "pycharm": {
     "name": "#%%\n",
     "is_executing": false
    }
   }
  },
  {
   "cell_type": "code",
   "execution_count": 23,
   "outputs": [
    {
     "name": "stdout",
     "text": [
      "[-0.25  0.75 -0.25 -0.25] [-11.25  48.75 -16.25 -21.25]\n"
     ],
     "output_type": "stream"
    }
   ],
   "source": [
    "x1_c = x1 - np.mean(x1)\n",
    "x2_c = x2 - np.mean(x2)\n",
    "print(x1_c, x2_c)"
   ],
   "metadata": {
    "collapsed": false,
    "pycharm": {
     "name": "#%%\n",
     "is_executing": false
    }
   }
  },
  {
   "cell_type": "code",
   "execution_count": 24,
   "outputs": [
    {
     "name": "stdout",
     "text": [
      "[-0.28867513  0.8660254  -0.28867513 -0.28867513] [-0.19829369  0.85927267 -0.28642422 -0.37455475]\n"
     ],
     "output_type": "stream"
    }
   ],
   "source": [
    "x1_n = x1_c / np.linalg.norm(x1_c)\n",
    "x2_n = x2_c / np.linalg.norm(x2_c)\n",
    "print(x1_n, x2_n)"
   ],
   "metadata": {
    "collapsed": false,
    "pycharm": {
     "name": "#%%\n",
     "is_executing": false
    }
   }
  },
  {
   "cell_type": "code",
   "execution_count": 30,
   "outputs": [
    {
     "data": {
      "text/plain": "array([-0.48696883,  1.72529807, -0.57509936, -0.66322989])"
     },
     "metadata": {},
     "output_type": "execute_result",
     "execution_count": 30
    }
   ],
   "source": [
    "F = (x1_n + x2_n) \n",
    "F"
   ],
   "metadata": {
    "collapsed": false,
    "pycharm": {
     "name": "#%%\n",
     "is_executing": false
    }
   }
  }
 ],
 "metadata": {
  "kernelspec": {
   "display_name": "Python 3",
   "language": "python",
   "name": "python3"
  },
  "language_info": {
   "codemirror_mode": {
    "name": "ipython",
    "version": 2
   },
   "file_extension": ".py",
   "mimetype": "text/x-python",
   "name": "python",
   "nbconvert_exporter": "python",
   "pygments_lexer": "ipython2",
   "version": "2.7.6"
  },
  "pycharm": {
   "stem_cell": {
    "cell_type": "raw",
    "source": [],
    "metadata": {
     "collapsed": false
    }
   }
  }
 },
 "nbformat": 4,
 "nbformat_minor": 0
}