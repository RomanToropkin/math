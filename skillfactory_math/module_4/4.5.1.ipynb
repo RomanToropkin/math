{
 "cells": [
  {
   "cell_type": "markdown",
   "metadata": {},
   "source": [
    "# Задание 4.5.1"
   ]
  },
  {
   "cell_type": "code",
   "execution_count": 1,
   "metadata": {
    "pycharm": {
     "is_executing": false
    }
   },
   "outputs": [],
   "source": [
    "from scipy.optimize import linprog\n",
    "import numpy as np"
   ]
  },
  {
   "cell_type": "code",
   "execution_count": 2,
   "metadata": {
    "pycharm": {
     "is_executing": false
    }
   },
   "outputs": [],
   "source": [
    "cost = np.array([\n",
    "    [3, 12, 9,1,7],\n",
    "    [2, 4, 11,2,10],\n",
    "    [7,14,12,5,8]\n",
    "])\n",
    "stock = np.array([350, 330,270])\n",
    "demand = np.array([210,170,220,150,200])\n",
    "num_warehouse = 3\n",
    "num_clients = 5"
   ]
  },
  {
   "cell_type": "markdown",
   "metadata": {},
   "source": [
    "$x_{ij}$ - сколько забирается со i склада клиенту j  \n",
    "$$f = \\sum_{i,j} cost_{ij} * x_{ij}$$"
   ]
  },
  {
   "cell_type": "code",
   "execution_count": 3,
   "metadata": {
    "pycharm": {
     "is_executing": false
    }
   },
   "outputs": [
    {
     "name": "stdout",
     "text": [
      "[ 3 12  9  1  7  2  4 11  2 10  7 14 12  5  8]\n"
     ],
     "output_type": "stream"
    }
   ],
   "source": [
    "c = cost.flatten()\n",
    "print(c) "
   ]
  },
  {
   "cell_type": "markdown",
   "metadata": {},
   "source": [
    "Для каждого склада количество взятых предметов должно быть меньше, чем на складе:\n",
    "\n",
    "$$\\forall i: \\sum_j x_{ij} \\leq stock_i$$"
   ]
  },
  {
   "cell_type": "code",
   "execution_count": 4,
   "metadata": {
    "pycharm": {
     "is_executing": false
    }
   },
   "outputs": [
    {
     "name": "stdout",
     "text": [
      "[[1 1 1 1 1 0 0 0 0 0 0 0 0 0 0]\n [0 0 0 0 0 1 1 1 1 1 0 0 0 0 0]\n [0 0 0 0 0 0 0 0 0 0 1 1 1 1 1]]\n[350 330 270]\n"
     ],
     "output_type": "stream"
    }
   ],
   "source": [
    "A = []\n",
    "b = []\n",
    "for i in range(0, num_warehouse):\n",
    "    A.append([0] * (num_clients * i) + [1] * num_clients + [0] * (num_clients * (num_warehouse - i - 1)))\n",
    "    b.append(stock[i])\n",
    "A = np.asarray(A)\n",
    "b = np.asarray(b)\n",
    "print(A)\n",
    "print(b)"
   ]
  },
  {
   "cell_type": "markdown",
   "metadata": {},
   "source": [
    "Для каждого клиента количество приобретаемых товаров должно быть больше на единицу, чем спрос:\n",
    "\n",
    "$$\\forall j: \\sum_i x_{ij} \\geq demand_j$$\n",
    "\n",
    "Который также:\n",
    "\n",
    "$$\\forall j: - \\sum_i x_{ij} \\leq -demand_j$$"
   ]
  },
  {
   "cell_type": "code",
   "execution_count": 5,
   "metadata": {
    "pycharm": {
     "is_executing": false
    }
   },
   "outputs": [
    {
     "name": "stdout",
     "text": [
      "[[ 1  1  1  1  1  0  0  0  0  0  0  0  0  0  0]\n [ 0  0  0  0  0  1  1  1  1  1  0  0  0  0  0]\n [ 0  0  0  0  0  0  0  0  0  0  1  1  1  1  1]\n [-1  0  0  0  0 -1  0  0  0  0 -1  0  0  0  0]\n [ 0 -1  0  0  0  0 -1  0  0  0  0 -1  0  0  0]\n [ 0  0 -1  0  0  0  0 -1  0  0  0  0 -1  0  0]\n [ 0  0  0 -1  0  0  0  0 -1  0  0  0  0 -1  0]\n [ 0  0  0  0 -1  0  0  0  0 -1  0  0  0  0 -1]]\n[ 350  330  270 -210 -170 -220 -150 -200]\n[ 3 12  9  1  7  2  4 11  2 10  7 14 12  5  8]\n"
     ],
     "output_type": "stream"
    }
   ],
   "source": [
    "A = A.tolist()\n",
    "b = b.tolist()\n",
    "for j in range(0, num_clients):\n",
    "    A.append(([0] * j + [-1] + [0] * (num_clients - j - 1)) * num_warehouse)\n",
    "    b.append(-demand[j])\n",
    "A = np.asarray(A)\n",
    "b = np.asarray(b)\n",
    "print(A)\n",
    "print(b)\n",
    "print(c)"
   ]
  },
  {
   "cell_type": "code",
   "execution_count": 6,
   "metadata": {
    "pycharm": {
     "is_executing": false
    }
   },
   "outputs": [
    {
     "data": {
      "text/plain": "     con: array([], dtype=float64)\n     fun: 5089.9997160905\n message: 'Optimization terminated successfully.'\n     nit: 6\n   slack: array([ 2.11893488e-05,  1.99639632e-05,  1.62943373e-05, -1.27103378e-05,\n       -1.02694542e-05, -1.33294557e-05, -9.03317411e-06, -1.21052275e-05])\n  status: 0\n success: True\n       x: array([4.99999997e+01, 4.60514010e-07, 1.49999989e+02, 1.49999989e+02,\n       1.42710666e-06, 1.59999987e+02, 1.69999989e+02, 1.25774715e-06,\n       2.40453261e-06, 8.73862967e-07, 8.74236877e-07, 5.33615530e-07,\n       6.99999967e+01, 3.30200393e-08, 1.99999986e+02])"
     },
     "metadata": {},
     "output_type": "execute_result",
     "execution_count": 6
    }
   ],
   "source": [
    "linprog(c=c, A_ub=A, b_ub=b)"
   ]
  },
  {
   "cell_type": "markdown",
   "metadata": {},
   "source": [
    "Минимальные затраты состовляют 5090"
   ]
  }
 ],
 "metadata": {
  "kernelspec": {
   "display_name": "Python 3",
   "language": "python",
   "name": "python3"
  },
  "language_info": {
   "codemirror_mode": {
    "name": "ipython",
    "version": 3
   },
   "file_extension": ".py",
   "mimetype": "text/x-python",
   "name": "python",
   "nbconvert_exporter": "python",
   "pygments_lexer": "ipython3",
   "version": "3.7.3"
  },
  "pycharm": {
   "stem_cell": {
    "cell_type": "raw",
    "source": [],
    "metadata": {
     "collapsed": false
    }
   }
  }
 },
 "nbformat": 4,
 "nbformat_minor": 2
}